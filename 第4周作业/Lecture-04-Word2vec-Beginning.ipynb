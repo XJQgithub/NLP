{
 "cells": [
  {
   "cell_type": "markdown",
   "metadata": {},
   "source": [
    "## Softmax"
   ]
  },
  {
   "cell_type": "code",
   "execution_count": 1,
   "metadata": {
    "collapsed": true
   },
   "outputs": [],
   "source": [
    "import numpy as np"
   ]
  },
  {
   "cell_type": "code",
   "execution_count": 19,
   "metadata": {
    "collapsed": true
   },
   "outputs": [],
   "source": [
    "vector = np.array([11231, 999, 123142])"
   ]
  },
  {
   "cell_type": "code",
   "execution_count": 28,
   "metadata": {
    "collapsed": true
   },
   "outputs": [],
   "source": [
    "vector = np.array([-10, 10, 24])"
   ]
  },
  {
   "cell_type": "code",
   "execution_count": 33,
   "metadata": {
    "collapsed": true
   },
   "outputs": [],
   "source": [
    "def softmax(vec):\n",
    "    vec -= np.max(vec)\n",
    "    exp = np.exp(vec)\n",
    "    return exp / np.sum(exp)"
   ]
  },
  {
   "cell_type": "code",
   "execution_count": 32,
   "metadata": {},
   "outputs": [
    {
     "data": {
      "text/plain": [
       "array([1.71390701e-15, 8.31528028e-07, 9.99999168e-01])"
      ]
     },
     "execution_count": 32,
     "metadata": {},
     "output_type": "execute_result"
    }
   ],
   "source": [
    "softmax(vector)"
   ]
  },
  {
   "cell_type": "markdown",
   "metadata": {},
   "source": [
    "## Assignment-04 基于维基百科的词向量构建"
   ]
  },
  {
   "cell_type": "markdown",
   "metadata": {},
   "source": [
    "在本章，你将使用Gensim和维基百科获得你的第一批词向量，并且感受词向量的基本过程。"
   ]
  },
  {
   "cell_type": "markdown",
   "metadata": {},
   "source": [
    "![](https://www.kaggleusercontent.com/kf/1018109/eyJhbGciOiJkaXIiLCJlbmMiOiJBMTI4Q0JDLUhTMjU2In0..JNNggcCCDcYEypvp7ZDwOA.cM9CuDpuCKo0K_ZkMFLAUvhfip0P6SRZ4LddwgTtgwz8pQy1dZeGVJWi6u81KSpAFNSi7YximVVJbPw8xsFySdWlqoUwvSER-LLIRfmlpsCvtDt90NaLYT2FHlwl0tfF-1MKtiFsWlGQ8LGo40hL3ccBSwMZy214kGJf9bNkW_g.kZbF5sgN5qha3zhjilfSDg/__results___files/__results___9_0.png)"
   ]
  },
  {
   "cell_type": "markdown",
   "metadata": {},
   "source": [
    "## Step-01: Download Wikipedia Chinese Corpus: https://dumps.wikimedia.org/zhwiki/20190720/"
   ]
  },
  {
   "cell_type": "markdown",
   "metadata": {},
   "source": [
    "第一步：使用维基百科下载中文语料库"
   ]
  },
  {
   "cell_type": "code",
   "execution_count": 2,
   "metadata": {
    "collapsed": true
   },
   "outputs": [],
   "source": [
    "#已下载"
   ]
  },
  {
   "cell_type": "markdown",
   "metadata": {},
   "source": [
    "## Step-02: Using https://github.com/attardi/wikiextractor to extract the wikipedia corpus"
   ]
  },
  {
   "cell_type": "markdown",
   "metadata": {},
   "source": [
    "第二步：使用python wikipedia extractor抽取维基百科的内容"
   ]
  },
  {
   "cell_type": "code",
   "execution_count": 1,
   "metadata": {
    "collapsed": true
   },
   "outputs": [],
   "source": [
    "python WikiExtractor.py -cb1000M -o extracted enwiki-20150602-pages-articles1.xml-p000000010p000010000.bz2"
   ]
  },
  {
   "cell_type": "markdown",
   "metadata": {},
   "source": [
    "## Step-03: Using gensim get word vectors: \n",
    "\n",
    "Reference: \n",
    "\n",
    "+ https://radimrehurek.com/gensim/models/word2vec.html\n",
    "+ https://www.kaggle.com/jeffd23/visualizing-word-vectors-with-t-sne"
   ]
  },
  {
   "cell_type": "markdown",
   "metadata": {},
   "source": [
    "第三步：参考Gensim的文档和Kaggle的参考文档，获得词向量。 注意，你要使用Jieba分词把维基百科的内容切分成一个一个单词，然后存进新的文件中。然后，你需要用Gensim的LineSentence这个类进行文件的读取。\n",
    "\n",
    "在训练成词向量Model."
   ]
  },
  {
   "cell_type": "code",
   "execution_count": 6,
   "metadata": {},
   "outputs": [],
   "source": [
    "import jieba\n",
    "import jieba.analyse\n",
    "import jieba.posseg as pseg\n",
    "import codecs,sys\n",
    "def cut_words(sentence):\n",
    "    #print sentence\n",
    "    return \" \".join(jieba.cut(sentence)).encode('utf-8')\n",
    "f=codecs.open('C:\\\\Users\\\\672\\\\Desktop\\\\zh_wiki_00','r',encoding=\"utf8\")\n",
    "target = codecs.open(\"C:\\\\Users\\\\672\\\\Desktop\\\\zh_wiki_00.fenci\", 'w',encoding=\"utf8\")\n",
    "print ('open files')\n",
    "line_num=1\n",
    "line = f.readline()\n",
    "while line:\n",
    "    print('---- processing ', line_num, ' article----------------')\n",
    "    line_seg = \" \".join(jieba.cut(line))\n",
    "    target.writelines(line_seg)\n",
    "    line_num = line_num + 1\n",
    "    line = f.readline()\n",
    "f.close()\n",
    "target.close()\n",
    "exit()\n",
    "while line:\n",
    "    curr = []\n",
    "    for oneline in line:\n",
    "        #print(oneline)\n",
    "        curr.append(oneline)\n",
    "    after_cut = map(cut_words, curr)\n",
    "    target.writelines(after_cut)\n",
    "    print ('saved ',line_num,' articles')\n",
    "    exit()\n",
    "    line = f.readline1()\n",
    "f.close()\n",
    "target.close()"
   ]
  },
  {
   "cell_type": "code",
   "execution_count": 7,
   "metadata": {
    "collapsed": true
   },
   "outputs": [],
   "source": [
    "#encoding:utf8\n",
    "import gensim,jieba,os\n",
    "stoplist = {}.fromkeys([ line.strip() for line in open(\"所有停用词\") ])  \n",
    "class MySentences(object):\n",
    "    def __init__(self, dirname):\n",
    "        self.dirname = dirname\n",
    "\n",
    "    def __iter__(self):\n",
    "        for fname in os.listdir(self.dirname):\n",
    "            for line in open(os.path.join(self.dirname, fname)):\n",
    "                if len(line) > 0:\n",
    "                    yield [segment for segment in jieba.cut(line.strip(),cut_all=False) if segment not in stoplist]\n",
    "\n",
    "dirname = 'zh-simplify'\n",
    "\n",
    "sentences = MySentences(dirname)\n",
    "model = gensim.models.Word2Vec(sentences=sentences, size=300,min_count=5,workers=7)\n",
    "model.wv.save_word2vec_format('wiki',binary=False)"
   ]
  },
  {
   "cell_type": "markdown",
   "metadata": {},
   "source": [
    "## Step-04: Using some words to test your preformance. "
   ]
  },
  {
   "cell_type": "markdown",
   "metadata": {},
   "source": [
    "第四步，测试同义词，找几个单词。"
   ]
  },
  {
   "cell_type": "code",
   "execution_count": 8,
   "metadata": {
    "collapsed": true
   },
   "outputs": [],
   "source": [
    "from gensim.models import KeyedVectors"
   ]
  },
  {
   "cell_type": "code",
   "execution_count": 12,
   "metadata": {},
   "outputs": [
    {
     "name": "stderr",
     "output_type": "stream",
     "text": [
      "C:\\Users\\672\\.conda\\envs\\tensorflow\\lib\\site-packages\\smart_open\\smart_open_lib.py:398: UserWarning: This function is deprecated, use smart_open.open instead. See the migration notes for details: https://github.com/RaRe-Technologies/smart_open/blob/master/README.rst#migrating-to-the-new-open-function\n",
      "  'See the migration notes for details: %s' % _MIGRATION_NOTES_URL\n"
     ]
    }
   ],
   "source": [
    "# 使用gensim加载预训练中文分词embedding\n",
    "cn_model = KeyedVectors.load_word2vec_format('wiki.bigram', \n",
    "                                          binary=False)"
   ]
  },
  {
   "cell_type": "code",
   "execution_count": 13,
   "metadata": {},
   "outputs": [
    {
     "data": {
      "text/plain": [
       "0.66128117"
      ]
     },
     "execution_count": 13,
     "metadata": {},
     "output_type": "execute_result"
    }
   ],
   "source": [
    "# 计算相似度\n",
    "cn_model.similarity('橘子', '橙子')"
   ]
  },
  {
   "cell_type": "code",
   "execution_count": 15,
   "metadata": {
    "collapsed": true
   },
   "outputs": [],
   "source": [
    "import numpy as np"
   ]
  },
  {
   "cell_type": "code",
   "execution_count": 16,
   "metadata": {},
   "outputs": [
    {
     "data": {
      "text/plain": [
       "0.66128117"
      ]
     },
     "execution_count": 16,
     "metadata": {},
     "output_type": "execute_result"
    }
   ],
   "source": [
    "# dot（'橘子'/|'橘子'|， '橙子'/|'橙子'| ）\n",
    "np.dot(cn_model['橘子']/np.linalg.norm(cn_model['橘子']), \n",
    "cn_model['橙子']/np.linalg.norm(cn_model['橙子']))"
   ]
  },
  {
   "cell_type": "code",
   "execution_count": 17,
   "metadata": {},
   "outputs": [
    {
     "data": {
      "text/plain": [
       "[('高中', 0.7247823476791382),\n",
       " ('本科', 0.6768535375595093),\n",
       " ('研究生', 0.6244412660598755),\n",
       " ('中学', 0.6088204979896545),\n",
       " ('大学本科', 0.595908522605896),\n",
       " ('初中', 0.5883588790893555),\n",
       " ('读研', 0.5778335332870483),\n",
       " ('职高', 0.5767995119094849),\n",
       " ('大学毕业', 0.5767451524734497),\n",
       " ('师范大学', 0.5708829760551453)]"
      ]
     },
     "execution_count": 17,
     "metadata": {},
     "output_type": "execute_result"
    }
   ],
   "source": [
    "# 找出最相近的词，余弦相似度\n",
    "cn_model.most_similar(positive=['大学'], topn=10)"
   ]
  },
  {
   "cell_type": "markdown",
   "metadata": {},
   "source": [
    "## Step-05: Using visualization tools: https://www.kaggle.com/jeffd23/visualizing-word-vectors-with-t-sne"
   ]
  },
  {
   "cell_type": "markdown",
   "metadata": {},
   "source": [
    "第五步：使用Kaggle给出的T-SEN进行词向量的可视化。"
   ]
  },
  {
   "cell_type": "code",
   "execution_count": 18,
   "metadata": {
    "collapsed": true
   },
   "outputs": [],
   "source": [
    "import matplotlib.pyplot as plt\n",
    "%matplotlib inline"
   ]
  },
  {
   "cell_type": "code",
   "execution_count": 2,
   "metadata": {
    "collapsed": true
   },
   "outputs": [],
   "source": [
    "from sklearn.manifold import TSNE"
   ]
  },
  {
   "cell_type": "code",
   "execution_count": 19,
   "metadata": {
    "collapsed": true
   },
   "outputs": [],
   "source": [
    "labels = []\n",
    "tokens = []\n",
    "\n",
    "for word in cn_model.vocab:\n",
    "    tokens.append(cn_model[word])\n",
    "    labels.append(word)"
   ]
  },
  {
   "cell_type": "code",
   "execution_count": 20,
   "metadata": {},
   "outputs": [
    {
     "name": "stdout",
     "output_type": "stream",
     "text": [
      "词向量的长度为300\n"
     ]
    },
    {
     "data": {
      "text/plain": [
       "array([-1.974930e-01,  5.781810e-01,  1.042788e+00,  1.122810e-01,\n",
       "       -2.176160e-01, -4.366500e-02, -6.936070e-01, -1.217050e-01,\n",
       "        2.118380e-01, -2.346000e-02, -6.624670e-01,  1.129114e+00,\n",
       "        7.506700e-01,  2.216530e-01, -6.739500e-01, -3.726280e-01,\n",
       "        1.136813e+00,  9.917300e-02, -1.935630e-01,  3.182980e-01,\n",
       "        4.107650e-01,  1.218730e+00, -1.201080e-01,  3.062080e-01,\n",
       "        2.649520e-01,  4.119350e-01, -4.485340e-01, -9.713320e-01,\n",
       "        6.739000e-03,  5.501170e-01, -7.161210e-01, -1.045302e+00,\n",
       "       -4.062900e-02,  2.081200e-01,  3.901330e-01,  2.164300e-02,\n",
       "        9.888000e-02,  7.441960e-01,  4.262210e-01, -4.904360e-01,\n",
       "       -3.677880e-01,  2.661850e-01,  1.916600e-02,  2.811550e-01,\n",
       "        4.231980e-01,  7.427920e-01,  1.206180e-01, -6.473000e-03,\n",
       "        3.791210e-01,  2.047640e-01, -6.707840e-01, -2.189660e-01,\n",
       "       -5.383280e-01,  1.175570e+00, -2.786040e-01,  4.453990e-01,\n",
       "        2.459760e-01,  9.389710e-01,  2.079880e-01, -1.848220e-01,\n",
       "       -5.049280e-01,  1.419700e-02,  6.675910e-01,  5.716500e-01,\n",
       "        1.053729e+00, -3.201470e-01, -2.129370e-01,  2.649200e-01,\n",
       "        4.479000e-01,  3.420950e-01, -2.240400e-02, -7.909760e-01,\n",
       "        6.814380e-01,  7.039700e-02, -1.062300e-02,  3.157190e-01,\n",
       "        6.295760e-01, -6.821400e-02,  2.505010e-01, -5.913150e-01,\n",
       "        1.209348e+00,  3.547590e-01, -5.533400e-01, -2.790730e-01,\n",
       "        2.412700e-02, -1.846750e-01, -3.693500e-02, -3.770920e-01,\n",
       "       -1.595109e+00, -1.142123e+00,  8.222400e-02,  4.752390e-01,\n",
       "       -5.107580e-01, -1.695740e-01,  2.822440e-01, -6.353910e-01,\n",
       "        1.248370e-01, -3.255420e-01, -1.008000e-01, -4.833420e-01,\n",
       "       -1.224196e+00,  6.049480e-01,  2.317190e-01,  2.218860e-01,\n",
       "       -3.000440e-01, -2.027290e-01,  9.292970e-01, -1.853490e-01,\n",
       "       -2.356260e-01,  1.379950e-01,  4.450190e-01,  2.486400e-02,\n",
       "        8.295310e-01, -1.481000e-03, -7.426210e-01,  8.651390e-01,\n",
       "        1.050221e+00, -2.471120e-01,  4.296730e-01, -8.018470e-01,\n",
       "        4.188750e-01,  7.924850e-01, -3.918000e-01, -7.225820e-01,\n",
       "        1.343250e-01, -1.555980e-01, -8.790900e-02, -2.500240e-01,\n",
       "        8.294070e-01, -9.673700e-02,  4.920240e-01,  1.799320e-01,\n",
       "       -8.284040e-01,  1.111950e-01,  1.674870e-01,  1.291300e-02,\n",
       "       -5.067190e-01,  2.862890e-01,  3.328310e-01, -1.718620e-01,\n",
       "        4.500030e-01,  1.254900e-02,  9.474960e-01,  3.109860e-01,\n",
       "       -5.914600e-01,  5.090790e-01, -3.091860e-01,  9.469200e-01,\n",
       "       -1.122440e-01,  4.036730e-01,  1.091695e+00,  4.332640e-01,\n",
       "        2.162710e-01, -2.962280e-01,  7.676140e-01, -1.332466e+00,\n",
       "        1.873520e-01, -6.485930e-01, -6.529580e-01, -4.483300e-02,\n",
       "       -2.380640e-01, -7.995920e-01, -1.763440e-01,  9.003430e-01,\n",
       "        5.942320e-01, -5.872980e-01, -8.334900e-01, -1.601690e-01,\n",
       "       -5.243400e-02,  6.295480e-01, -4.397020e-01,  1.087710e-01,\n",
       "       -9.668490e-01,  5.261830e-01,  2.816730e-01,  2.378090e-01,\n",
       "       -2.210080e-01, -1.847630e-01,  2.553950e-01, -3.488710e-01,\n",
       "        1.146590e-01, -5.121330e-01, -2.909070e-01,  4.663760e-01,\n",
       "       -2.094640e-01, -5.678140e-01,  5.054300e-02, -2.817380e-01,\n",
       "       -1.987000e-03,  7.502680e-01, -2.553670e-01,  4.705860e-01,\n",
       "        3.345880e-01, -1.213571e+00,  8.321420e-01,  3.811060e-01,\n",
       "        6.674200e-02,  6.890520e-01, -6.997000e-01,  5.628540e-01,\n",
       "       -6.139930e-01,  1.031870e-01,  2.138490e-01, -5.389680e-01,\n",
       "       -8.486500e-02, -6.507770e-01, -3.670000e-02, -1.033424e+00,\n",
       "        1.286300e-02, -3.144100e-02, -7.454560e-01,  2.811200e-01,\n",
       "       -9.625000e-02, -1.383975e+00,  1.679850e-01,  6.743190e-01,\n",
       "       -1.459572e+00, -3.445760e-01, -2.102000e-02,  2.350520e-01,\n",
       "        3.329060e-01,  3.329630e-01,  7.248870e-01, -1.226200e-02,\n",
       "        5.417850e-01, -2.254830e-01,  6.624840e-01,  3.924070e-01,\n",
       "        2.705510e-01, -1.915810e-01,  3.761800e-02,  9.897400e-02,\n",
       "       -3.212400e-01,  8.429450e-01,  1.528160e-01,  8.262600e-02,\n",
       "        9.862570e-01, -8.413850e-01, -4.087460e-01, -1.201170e-01,\n",
       "       -1.090373e+00, -3.489620e-01,  5.054000e-01,  6.341740e-01,\n",
       "       -2.384020e-01, -1.292616e+00,  1.080940e+00, -5.337320e-01,\n",
       "        6.335450e-01,  5.157120e-01,  4.762750e-01,  2.585000e-02,\n",
       "        8.496270e-01,  7.471390e-01,  1.813360e-01, -6.292960e-01,\n",
       "        7.264160e-01,  5.661230e-01, -7.721810e-01, -2.623390e-01,\n",
       "        3.733190e-01,  3.901780e-01,  4.098530e-01, -3.095230e-01,\n",
       "        6.732040e-01, -3.513290e-01, -8.649400e-02,  4.067060e-01,\n",
       "        1.642690e-01, -1.865000e-01, -3.978710e-01, -4.014410e-01,\n",
       "       -2.533300e-02,  5.288370e-01, -4.826770e-01,  2.854840e-01,\n",
       "       -3.505680e-01, -2.692310e-01,  4.181330e-01, -5.226590e-01,\n",
       "        8.310510e-01, -2.818560e-01,  3.738540e-01,  3.173550e-01,\n",
       "       -2.642490e-01,  3.199040e-01,  2.692910e-01, -1.287771e+00,\n",
       "        6.633790e-01,  8.187500e-02, -3.227830e-01,  7.085730e-01,\n",
       "        3.276260e-01, -4.717260e-01, -4.135950e-01, -2.362210e-01,\n",
       "       -4.633870e-01, -4.288760e-01, -9.252720e-01, -6.788350e-01],\n",
       "      dtype=float32)"
      ]
     },
     "execution_count": 20,
     "metadata": {},
     "output_type": "execute_result"
    }
   ],
   "source": [
    "embedding_dim = cn_model['的'].shape[0]\n",
    "print('词向量的长度为{}'.format(embedding_dim))\n",
    "cn_model['空']"
   ]
  },
  {
   "cell_type": "code",
   "execution_count": 24,
   "metadata": {},
   "outputs": [
    {
     "data": {
      "text/plain": [
       "'弗雷格'"
      ]
     },
     "execution_count": 24,
     "metadata": {},
     "output_type": "execute_result"
    }
   ],
   "source": [
    "labels[0]"
   ]
  },
  {
   "cell_type": "code",
   "execution_count": 8,
   "metadata": {
    "collapsed": true
   },
   "outputs": [],
   "source": [
    "result = TSNE(perplexity=40, n_components=2, init='pca', n_iter=250, random_state=23)"
   ]
  },
  {
   "cell_type": "markdown",
   "metadata": {},
   "source": [
    "# 要是TSNE太久的话，可以考虑采用PCA"
   ]
  },
  {
   "cell_type": "code",
   "execution_count": 27,
   "metadata": {
    "collapsed": true
   },
   "outputs": [],
   "source": [
    "#from sklearn.decomposition import PCA"
   ]
  },
  {
   "cell_type": "code",
   "execution_count": 28,
   "metadata": {
    "collapsed": true
   },
   "outputs": [],
   "source": [
    "# 基于2d PCA拟合数据\n",
    "#X = cn_model[cn_model.vocab]"
   ]
  },
  {
   "cell_type": "code",
   "execution_count": 29,
   "metadata": {},
   "outputs": [],
   "source": [
    "#pca = PCA(n_components=2)\n",
    "#result = pca.fit_transform(X)"
   ]
  },
  {
   "cell_type": "code",
   "execution_count": 30,
   "metadata": {
    "collapsed": true
   },
   "outputs": [],
   "source": [
    "x = []\n",
    "y = []\n",
    "for value in result:\n",
    "    x.append(value[0])\n",
    "    y.append(value[1])"
   ]
  },
  {
   "cell_type": "code",
   "execution_count": 31,
   "metadata": {},
   "outputs": [
    {
     "data": {
      "text/plain": [
       "(259883, 259883)"
      ]
     },
     "execution_count": 31,
     "metadata": {},
     "output_type": "execute_result"
    }
   ],
   "source": [
    "len(x),len(y)"
   ]
  },
  {
   "cell_type": "code",
   "execution_count": 32,
   "metadata": {
    "collapsed": true
   },
   "outputs": [],
   "source": [
    "a = x[:25]\n",
    "b = y[:25]"
   ]
  },
  {
   "cell_type": "code",
   "execution_count": 33,
   "metadata": {},
   "outputs": [
    {
     "data": {
      "text/plain": [
       "25"
      ]
     },
     "execution_count": 33,
     "metadata": {},
     "output_type": "execute_result"
    }
   ],
   "source": [
    "len(a)"
   ]
  },
  {
   "cell_type": "code",
   "execution_count": 34,
   "metadata": {
    "collapsed": true
   },
   "outputs": [],
   "source": [
    "plt.rcParams['font.sans-serif'] = ['SimHei']\n",
    "plt.rcParams['axes.unicode_minus'] = False"
   ]
  },
  {
   "cell_type": "code",
   "execution_count": 35,
   "metadata": {},
   "outputs": [
    {
     "data": {
      "image/png": "[encoded data removed]",
      "text/plain": [
       "<Figure size 432x288 with 1 Axes>"
      ]
     },
     "metadata": {},
     "output_type": "display_data"
    }
   ],
   "source": [
    "for i in range(len(a)): \n",
    "    plt.scatter(a[i],b[i])\n",
    "    plt.annotate(labels[i],\n",
    "                 xy=(x[i], y[i]),\n",
    "                 xytext=(5, 2),\n",
    "                 textcoords='offset points',\n",
    "                 ha='right',\n",
    "                 va='bottom')"
   ]
  },
  {
   "cell_type": "code",
   "execution_count": null,
   "metadata": {
    "collapsed": true
   },
   "outputs": [],
   "source": []
  }
 ],
 "metadata": {
  "kernelspec": {
   "display_name": "Python 3",
   "language": "python",
   "name": "python3"
  },
  "language_info": {
   "codemirror_mode": {
    "name": "ipython",
    "version": 3
   },
   "file_extension": ".py",
   "mimetype": "text/x-python",
   "name": "python",
   "nbconvert_exporter": "python",
   "pygments_lexer": "ipython3",
   "version": "3.5.4"
  }
 },
 "nbformat": 4,
 "nbformat_minor": 2
}
