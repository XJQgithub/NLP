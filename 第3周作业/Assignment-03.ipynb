{
 "cells": [
  {
   "cell_type": "markdown",
   "metadata": {},
   "source": [
    "## Lecture-03 Gradient Descent and Dymanic Programming"
   ]
  },
  {
   "cell_type": "markdown",
   "metadata": {},
   "source": [
    "In this week, we need complete following tasks:\n",
    "+ Re-review the course online programming; \n",
    "+ Choose 1 - 2 books which you interested and keep reading; \n",
    "+ Answer the review questions\n",
    "+ Prepare the basic requirement of our 1st project. "
   ]
  },
  {
   "cell_type": "markdown",
   "metadata": {},
   "source": [
    "### Part I Review the online programming. "
   ]
  },
  {
   "cell_type": "code",
   "execution_count": 27,
   "metadata": {},
   "outputs": [],
   "source": [
    "#代码复现在另一个jupyder notebook中"
   ]
  },
  {
   "cell_type": "markdown",
   "metadata": {},
   "source": [
    "### Part 2: change loss function from $loss = \\frac{1}{n}\\sum{(y_i - \\hat(y_i))^2}$ to $loss = \\frac{1}{n}\\sum{|y_i - \\hat{y_i}|}$, and using your mathmatical knowledge to get the right partial formual. Implemen the gradient descent code."
   ]
  },
  {
   "cell_type": "code",
   "execution_count": 16,
   "metadata": {},
   "outputs": [],
   "source": [
    "def loss(y, y_hat): # to evaluate the performance \n",
    "    return sum((y_i - y_hat_i)**2 for y_i, y_hat_i in zip(list(y), list(y_hat))) / len(list(y))"
   ]
  },
  {
   "cell_type": "code",
   "execution_count": 17,
   "metadata": {},
   "outputs": [],
   "source": [
    "def loss2(y, y_hat): # to evaluate the performance \n",
    "    return sum(abs(y_i - y_hat_i) for y_i, y_hat_i in zip(list(y), list(y_hat))) / len(list(y))"
   ]
  },
  {
   "cell_type": "code",
   "execution_count": 18,
   "metadata": {},
   "outputs": [
    {
     "data": {
      "text/plain": [
       "2.0"
      ]
     },
     "execution_count": 18,
     "metadata": {},
     "output_type": "execute_result"
    }
   ],
   "source": [
    "loss([1, 1, 1], [2, 2, 3])"
   ]
  },
  {
   "cell_type": "code",
   "execution_count": 19,
   "metadata": {},
   "outputs": [
    {
     "data": {
      "text/plain": [
       "1.3333333333333333"
      ]
     },
     "execution_count": 19,
     "metadata": {},
     "output_type": "execute_result"
    }
   ],
   "source": [
    "loss2([1, 1, 1], [2, 2, 3])"
   ]
  },
  {
   "cell_type": "markdown",
   "metadata": {},
   "source": [
    "### Part 3: Finish the Solution Parse Part of Edit-Distance"
   ]
  },
  {
   "cell_type": "code",
   "execution_count": 42,
   "metadata": {},
   "outputs": [],
   "source": [
    "from functools import wraps"
   ]
  },
  {
   "cell_type": "code",
   "execution_count": 59,
   "metadata": {},
   "outputs": [],
   "source": [
    "solution = {}"
   ]
  },
  {
   "cell_type": "code",
   "execution_count": 38,
   "metadata": {},
   "outputs": [],
   "source": [
    "def lru_cache(func):\n",
    "    cache={}\n",
    "    @wraps(func)\n",
    "    def wrap(*args):\n",
    "        if args not in cache:\n",
    "            cache[args]=func(*args)\n",
    "        return cache[args]\n",
    "    return wrap"
   ]
  },
  {
   "cell_type": "code",
   "execution_count": 65,
   "metadata": {},
   "outputs": [],
   "source": [
    "@lru_cache\n",
    "def edit_distance(string1, string2):\n",
    "    \n",
    "    if len(string1) == 0: return len(string2)\n",
    "    if len(string2) == 0: return len(string1)\n",
    "    \n",
    "    tail_s1 = string1[-1]\n",
    "    tail_s2 = string2[-1]\n",
    "    \n",
    "    candidates = [\n",
    "        (edit_distance(string1[:-1], string2) + 1, 'DEL {}'.format(tail_s1)),  # string 1 delete tail\n",
    "        (edit_distance(string1, string2[:-1]) + 1, 'ADD {}'.format(tail_s2)),  # string 1 add tail of string2\n",
    "    ]\n",
    "    \n",
    "    if tail_s1 == tail_s2:\n",
    "        both_forward = (edit_distance(string1[:-1], string2[:-1]) + 0, '')\n",
    "    else:\n",
    "        both_forward = (edit_distance(string1[:-1], string2[:-1]) + 1, 'SUB {} => {}'.format(tail_s1, tail_s2))\n",
    "\n",
    "    candidates.append(both_forward)\n",
    "    \n",
    "    min_distance, operation = min(candidates, key=lambda x: x[0])\n",
    "    \n",
    "    solution[(string1, string2)] = operation \n",
    "    \n",
    "    return min_distance"
   ]
  },
  {
   "cell_type": "code",
   "execution_count": 66,
   "metadata": {},
   "outputs": [
    {
     "data": {
      "text/plain": [
       "3"
      ]
     },
     "execution_count": 66,
     "metadata": {},
     "output_type": "execute_result"
    }
   ],
   "source": [
    "edit_distance('CDFG', 'AEF')"
   ]
  },
  {
   "cell_type": "code",
   "execution_count": 67,
   "metadata": {},
   "outputs": [
    {
     "data": {
      "text/plain": [
       "{('C', 'A'): 'SUB C => A',\n",
       " ('C', 'AE'): 'ADD E',\n",
       " ('C', 'AEF'): 'ADD F',\n",
       " ('CD', 'A'): 'DEL D',\n",
       " ('CD', 'AE'): 'SUB D => E',\n",
       " ('CD', 'AEF'): 'ADD F',\n",
       " ('CDF', 'A'): 'DEL F',\n",
       " ('CDF', 'AE'): 'DEL F',\n",
       " ('CDF', 'AEF'): '',\n",
       " ('CDFG', 'A'): 'DEL G',\n",
       " ('CDFG', 'AE'): 'DEL G',\n",
       " ('CDFG', 'AEF'): 'DEL G'}"
      ]
     },
     "execution_count": 67,
     "metadata": {},
     "output_type": "execute_result"
    }
   ],
   "source": [
    "solution"
   ]
  },
  {
   "cell_type": "markdown",
   "metadata": {},
   "source": [
    "### Part 4 Choose 1 - 2 books to keep reading: \n",
    "\n",
    "+ SICP, Structure and Interpretation of Computer Programming. \n",
    "+ Introduction to Algorithms \n",
    "+ Artificial Intelligence A Modern Approach (3rd Edition) \n",
    "+ Code Complete 2 \n",
    "+ Programming Pearls \n",
    "+ Deep Learning\n",
    "+ 黑客与画家\n",
    "+ 数学之美\n",
    "+ Fluent Python\n",
    "+ Hands on Tensorflow\n",
    "+ Conference: NIPS_ ICML_ ICLR_ ACL_ AAAI\n",
    "\n",
    "> most books you may find in our github: https://github.com/Computing-Intelligence/References"
   ]
  },
  {
   "cell_type": "code",
   "execution_count": null,
   "metadata": {},
   "outputs": [],
   "source": [
    "#我选择看《数学之美》"
   ]
  },
  {
   "cell_type": "markdown",
   "metadata": {},
   "source": [
    "## Part 5-1: review machine learning"
   ]
  },
  {
   "cell_type": "markdown",
   "metadata": {},
   "source": [
    "1. Why do we use Derivative / Gredient to fit a target function?¶"
   ]
  },
  {
   "cell_type": "markdown",
   "metadata": {},
   "source": [
    "Ans:Bacause it can let us find out the extreme point of a function faster，it moves to faster acceleration direction."
   ]
  },
  {
   "cell_type": "markdown",
   "metadata": {},
   "source": [
    "2. In the words 'Gredient Descent', what's the Gredient and what's the Descent?¶"
   ]
  },
  {
   "cell_type": "markdown",
   "metadata": {},
   "source": [
    "Ans:Gredient means the function changes fastest and the rate of change is greatest along this direction at this point.\n",
    "Descent means it is to find the minimum along the descending direction of the gradient (or the maximum along the ascending direction of the gradient)."
   ]
  },
  {
   "cell_type": "markdown",
   "metadata": {},
   "source": [
    "\n",
    "3. What's the advantages of the 3rd gradient descent method compared to the previous methods?"
   ]
  },
  {
   "cell_type": "markdown",
   "metadata": {},
   "source": [
    "Ans:It can ensure we are going on the right way to find out maximum or minimum of a function. It can be cost less time to help us find out maximum or minimum of a function."
   ]
  },
  {
   "cell_type": "markdown",
   "metadata": {},
   "source": [
    "4. Using the simple words to describe: What's the machine leanring.¶"
   ]
  },
  {
   "cell_type": "markdown",
   "metadata": {},
   "source": [
    "Ans:Using a bunch of X to fitting target Y by attempting to find out a f(x)."
   ]
  },
  {
   "cell_type": "markdown",
   "metadata": {},
   "source": [
    "### Part 5: Answer following questions: "
   ]
  },
  {
   "cell_type": "markdown",
   "metadata": {},
   "source": [
    "1. Why do we need dynamic programming? What's the difference of dynamic programming and previous talked `search` problme? "
   ]
  },
  {
   "cell_type": "markdown",
   "metadata": {},
   "source": [
    "Ans:Bacuase it can help us save much computing cost，dynamic programming can avoid duplicate calculations.\n",
    "difference:dynamic programming have storage,its essence is to change space for time,and it has high efficiency,but it is complex.\n",
    "The advantage of search method is easy to implement, but its disadvantage is the sub-problem of repeated calculation."
   ]
  },
  {
   "cell_type": "markdown",
   "metadata": {},
   "source": [
    "2. Why do we still need dynamic programming? Why not we train a machine learning to fit a function which could get the `right` answer based on inputs?"
   ]
  },
  {
   "cell_type": "markdown",
   "metadata": {},
   "source": [
    "Ans:Dynamic programming is suitable for optimal substructure,if we use machine learning,it look like carrying coals to newcastle."
   ]
  },
  {
   "cell_type": "markdown",
   "metadata": {},
   "source": [
    "3. Can you catch up at least 3 problems which could solved by Dynamic Programming? "
   ]
  },
  {
   "cell_type": "markdown",
   "metadata": {},
   "source": [
    "Ans:knapsack problem、Cutting of Steel Bar、traveling salesman problem."
   ]
  },
  {
   "cell_type": "markdown",
   "metadata": {},
   "source": [
    "4. Can you catch up at least 3 problems wich could sloved by Edit Distance? "
   ]
  },
  {
   "cell_type": "markdown",
   "metadata": {},
   "source": [
    "Ans:review of papers、spell check、Gene Sequence Analysis."
   ]
  },
  {
   "cell_type": "markdown",
   "metadata": {},
   "source": [
    "5. Please summarize the three main features of Dynamic Programming, and make a concise explain for each feature. "
   ]
  },
  {
   "cell_type": "markdown",
   "metadata": {},
   "source": [
    "Ans:\n",
    "1.Overlapping Subproblems:\n",
    "In Dynamic Programming,Among the problems we have to deal with,some sub-problems will be recalculated many times.\n",
    "\n",
    "2.Overlapping computing saved in a table:\n",
    "In Dynamic Programming ,each sub-problem is computed only once,and then the results are \n",
    "stored in a table.When it needs to be recalculated,we just need to look at the results in the table simply,\n",
    "so Dynamic Programming has high efficiency.\n",
    "\n",
    "3.Parse solution:\n",
    "The optimal solution of the problem contains the optimal solution of the sub-problem."
   ]
  },
  {
   "cell_type": "markdown",
   "metadata": {},
   "source": [
    "6. What's the disadvantages of Dynamic Programming? (You may need search by yourself in Internet)"
   ]
  },
  {
   "cell_type": "markdown",
   "metadata": {},
   "source": [
    "Ans:Stage division of different problems need different approaches,there is no uniform method."
   ]
  },
  {
   "cell_type": "markdown",
   "metadata": {},
   "source": [
    "## Part 6 Preparation of Project-01"
   ]
  },
  {
   "cell_type": "markdown",
   "metadata": {},
   "source": [
    "1. Using python Flask or Bottle to finish your first simple web app:\n",
    "> https://bottlepy.org/\n",
    "\n",
    "2. Learn what's the SQL, and try some simple SQL operations:\n",
    "> https://www.w3schools.com/sql/sql_intro.asp\n",
    "\n",
    "3. Learn what's the HTML ( *ONLY* need to know the basic things)\n",
    "> https://getbootstrap.com/; https://www.w3schools.com/html/"
   ]
  },
  {
   "cell_type": "markdown",
   "metadata": {},
   "source": [
    "### (Optinal) Finish the k-person-salesman problem:"
   ]
  },
  {
   "cell_type": "code",
   "execution_count": 73,
   "metadata": {},
   "outputs": [],
   "source": [
    "import random\n",
    "import matplotlib.pylab as plt"
   ]
  },
  {
   "cell_type": "code",
   "execution_count": 79,
   "metadata": {},
   "outputs": [],
   "source": [
    "latitudes = [random.randint(-100, 100) for _ in range(20)]\n",
    "longitude = [random.randint(-100, 100) for _ in range(20)]"
   ]
  },
  {
   "cell_type": "code",
   "execution_count": 80,
   "metadata": {},
   "outputs": [
    {
     "data": {
      "text/plain": [
       "<matplotlib.collections.PathCollection at 0x27bef29da20>"
      ]
     },
     "execution_count": 80,
     "metadata": {},
     "output_type": "execute_result"
    },
    {
     "data": {
      "image/png": "[encoded data removed]",
      "text/plain": [
       "<Figure size 432x288 with 1 Axes>"
      ]
     },
     "metadata": {
      "needs_background": "light"
     },
     "output_type": "display_data"
    }
   ],
   "source": [
    "plt.scatter(latitudes, longitude)"
   ]
  },
  {
   "cell_type": "markdown",
   "metadata": {},
   "source": [
    "给定一个初始点 𝑃, 已经 𝑘个车辆，如何从该点出发，经这 k 个车辆经过所以的点全部一次，而且所走过的路程最短?\n",
    "\n",
    "例如："
   ]
  },
  {
   "cell_type": "code",
   "execution_count": 81,
   "metadata": {},
   "outputs": [],
   "source": [
    "chosen_p = (-50, 10)\n",
    "chosen_p2 = (1, 30)\n",
    "chosen_p3 = (99, 15)"
   ]
  },
  {
   "cell_type": "code",
   "execution_count": 82,
   "metadata": {
    "scrolled": true
   },
   "outputs": [
    {
     "data": {
      "text/plain": [
       "<matplotlib.collections.PathCollection at 0x27bef34e780>"
      ]
     },
     "execution_count": 82,
     "metadata": {},
     "output_type": "execute_result"
    },
    {
     "data": {
      "image/png": "[encoded data removed]",
      "text/plain": [
       "<Figure size 432x288 with 1 Axes>"
      ]
     },
     "metadata": {
      "needs_background": "light"
     },
     "output_type": "display_data"
    }
   ],
   "source": [
    "plt.scatter(latitudes, longitude)\n",
    "plt.scatter([chosen_p[0]], [chosen_p[1]], color='r')\n",
    "plt.scatter([chosen_p2[0]], [chosen_p2[1]], color='r')\n",
    "plt.scatter([chosen_p3[0]], [chosen_p3[1]], color='r')"
   ]
  },
  {
   "cell_type": "markdown",
   "metadata": {},
   "source": [
    "shuro"
   ]
  },
  {
   "cell_type": "code",
   "execution_count": 83,
   "metadata": {},
   "outputs": [
    {
     "data": {
      "text/plain": [
       "([59,\n",
       "  -38,\n",
       "  -11,\n",
       "  72,\n",
       "  65,\n",
       "  -58,\n",
       "  -24,\n",
       "  -10,\n",
       "  -19,\n",
       "  -35,\n",
       "  46,\n",
       "  72,\n",
       "  -88,\n",
       "  54,\n",
       "  32,\n",
       "  -39,\n",
       "  -56,\n",
       "  -88,\n",
       "  33,\n",
       "  -79],\n",
       " [-19,\n",
       "  79,\n",
       "  46,\n",
       "  44,\n",
       "  -23,\n",
       "  -35,\n",
       "  -22,\n",
       "  74,\n",
       "  -71,\n",
       "  30,\n",
       "  -55,\n",
       "  -84,\n",
       "  -22,\n",
       "  83,\n",
       "  -80,\n",
       "  99,\n",
       "  -45,\n",
       "  25,\n",
       "  29,\n",
       "  50])"
      ]
     },
     "execution_count": 83,
     "metadata": {},
     "output_type": "execute_result"
    }
   ],
   "source": [
    "latitudes,longitude"
   ]
  },
  {
   "cell_type": "code",
   "execution_count": 84,
   "metadata": {},
   "outputs": [
    {
     "data": {
      "text/plain": [
       "[(59, -19),\n",
       " (-38, 79),\n",
       " (-11, 46),\n",
       " (72, 44),\n",
       " (65, -23),\n",
       " (-58, -35),\n",
       " (-24, -22),\n",
       " (-10, 74),\n",
       " (-19, -71),\n",
       " (-35, 30),\n",
       " (46, -55),\n",
       " (72, -84),\n",
       " (-88, -22),\n",
       " (54, 83),\n",
       " (32, -80),\n",
       " (-39, 99),\n",
       " (-56, -45),\n",
       " (-88, 25),\n",
       " (33, 29),\n",
       " (-79, 50)]"
      ]
     },
     "execution_count": 84,
     "metadata": {},
     "output_type": "execute_result"
    }
   ],
   "source": [
    "z = list(zip(latitudes,longitude))\n",
    "z"
   ]
  },
  {
   "cell_type": "code",
   "execution_count": 71,
   "metadata": {},
   "outputs": [],
   "source": [
    "import numpy as np\n",
    "import pandas as pd\n",
    "import matplotlib\n",
    "import math\n",
    "matplotlib.rcParams['font.family']= 'STSong'"
   ]
  },
  {
   "cell_type": "code",
   "execution_count": 85,
   "metadata": {},
   "outputs": [],
   "source": [
    "city_name=[]\n",
    "city_condition=[]\n",
    "with open('data3.txt','r') as f:\n",
    "    lines=f.readlines()\n",
    "    for line in lines:\n",
    "        line=line.split('\\n')[0]\n",
    "        line=line.split(',')\n",
    "        city_name.append(line[0])\n",
    "        city_condition.append([float(line[1]),float(line[2])])"
   ]
  },
  {
   "cell_type": "code",
   "execution_count": 87,
   "metadata": {},
   "outputs": [],
   "source": [
    "#展示地图\n",
    "# plt.scatter(city_condition[:,0],city_condition[:,1])\n",
    "# plt.show()\n",
    " \n",
    "#距离矩阵\n",
    "city_count=len(city_name)\n",
    "Distance=np.zeros([city_count,city_count])\n",
    "for i in range(city_count):\n",
    "    for j in range(city_count):\n",
    "        Distance[i][j]=math.sqrt((city_condition[i][0]-city_condition[j][0])**2+(city_condition[i][1]-city_condition[j][1])**2)"
   ]
  },
  {
   "cell_type": "code",
   "execution_count": 88,
   "metadata": {},
   "outputs": [],
   "source": [
    "#种群数\n",
    "count=300\n",
    "#改良次数\n",
    "improve_count=10000\n",
    "#进化次数\n",
    "itter_time=3000\n",
    " \n",
    "#设置强者的定义概率，即种群前30%为强者\n",
    "retain_rate=0.3\n",
    " \n",
    "#设置弱者的存活概率\n",
    "random_select_rate=0.5\n",
    " \n",
    "#变异率\n",
    "mutation_rate=0.1\n",
    " \n",
    "#设置起点\n",
    "origin=15\n",
    "index=[i for i in range(city_count)]\n",
    "index.remove(15)"
   ]
  },
  {
   "cell_type": "code",
   "execution_count": 89,
   "metadata": {},
   "outputs": [],
   "source": [
    "# def get_path(x):\n",
    "#     graded = [[x[i], index[i]] for i in range(len(x))]\n",
    "#     graded_index = [t[1] for t in sorted(graded)]\n",
    "#     return graded_index\n",
    "#总距离\n",
    "def get_total_distance(x):\n",
    "    distance=0\n",
    "    distance+=Distance[origin][x[0]]\n",
    "    for i in range(len(x)):\n",
    "        if i==len(x)-1:\n",
    "            distance += Distance[origin][x[i]]\n",
    "        else:\n",
    "            distance += Distance[x[i]][x[i+1]]\n",
    "    return distance\n",
    " \n",
    "#改良\n",
    "def improve(x):\n",
    "    i=0\n",
    "    distance=get_total_distance(x)\n",
    "    while i<improve_count:\n",
    "        # randint [a,b]\n",
    "        u=random.randint(0,len(x)-1)\n",
    "        v = random.randint(0, len(x)-1)\n",
    "        if u!=v:\n",
    "            new_x=x.copy()\n",
    "            t=new_x[u]\n",
    "            new_x[u]=new_x[v]\n",
    "            new_x[v]=t\n",
    "            new_distance=get_total_distance(new_x)\n",
    "            if new_distance<distance:\n",
    "                distance=new_distance\n",
    "                x=new_x.copy()\n",
    "        else:\n",
    "            continue\n",
    "        i+=1\n",
    "\n",
    "#自然选择\n",
    "def selection(population):\n",
    "    \"\"\"\n",
    "    选择\n",
    "    先对适应度从大到小排序，选出存活的染色体\n",
    "    再进行随机选择，选出适应度虽然小，但是幸存下来的个体\n",
    "    \"\"\"\n",
    "    # 对总距离从小到大进行排序\n",
    "    graded = [[get_total_distance(x), x] for x in population]\n",
    "    graded = [x[1] for x in sorted(graded)]\n",
    "    # 选出适应性强的染色体\n",
    "    retain_length = int(len(graded) * retain_rate)\n",
    "    parents = graded[:retain_length]\n",
    "    # 选出适应性不强，但是幸存的染色体\n",
    "    for chromosome in graded[retain_length:]:\n",
    "        if random.random() < random_select_rate:\n",
    "            parents.append(chromosome)\n",
    "    return parents\n",
    " \n",
    "#交叉繁殖\n",
    "def crossover(parents):\n",
    "    #生成子代的个数,以此保证种群稳定\n",
    "    target_count=count-len(parents)\n",
    "    #孩子列表\n",
    "    children=[]\n",
    "    while len(children)<target_count:\n",
    "        male_index = random.randint(0, len(parents) - 1)\n",
    "        female_index = random.randint(0, len(parents) - 1)\n",
    "        if male_index!=female_index:\n",
    "            male=parents[male_index]\n",
    "            female=parents[female_index]\n",
    " \n",
    "            left=random.randint(0,len(male)-2)\n",
    "            right=random.randint(left+1,len(male)-1)\n",
    " \n",
    "            #交叉片段\n",
    "            gene1=male[left:right]\n",
    "            gene2=female[left:right]\n",
    " \n",
    "            child1_c=male[right:]+male[:right]\n",
    "            child2_c=female[right:]+female[:right]\n",
    "            child1=child1_c.copy()\n",
    "            child2= child2_c.copy()\n",
    " \n",
    "            for o in gene2:\n",
    "                child1_c.remove(o)\n",
    " \n",
    "            for o in gene1:\n",
    "                child2_c.remove(o)\n",
    " \n",
    "            child1[left:right]=gene2\n",
    "            child2[left:right]=gene1\n",
    " \n",
    "            child1[right:]=child1_c[0:len(child1)-right]\n",
    "            child1[:left] = child1_c[len(child1) - right:]\n",
    " \n",
    "            child2[right:] = child2_c[0:len(child1) - right]\n",
    "            child2[:left] = child2_c[len(child1) - right:]\n",
    " \n",
    "            children.append(child1)\n",
    "            children.append(child2)\n",
    " \n",
    "    return children\n",
    " \n",
    "#变异\n",
    "def mutation(children):\n",
    "    for i in range(len(children)):\n",
    "        if random.random() < mutation_rate:\n",
    "            child=children[i]\n",
    "            u=random.randint(1,len(child)-4)\n",
    "            v = random.randint(u+1, len(child)-3)\n",
    "            w= random.randint(v+1, len(child)-2)\n",
    "            child=children[i]\n",
    "            child=child[0:u]+child[v:w]+child[u:v]+child[w:]\n",
    "\n",
    "#得到最佳纯输出结果\n",
    "def get_result(population):\n",
    "    graded = [[get_total_distance(x), x] for x in population]\n",
    "    graded = sorted(graded)\n",
    "    return graded[0][0],graded[0][1]"
   ]
  },
  {
   "cell_type": "code",
   "execution_count": 90,
   "metadata": {},
   "outputs": [],
   "source": [
    "#使用改良圈算法初始化种群\n",
    "population=[]\n",
    "for i in range(count):\n",
    "    #随机生成个体\n",
    "    x=index.copy()\n",
    "    random.shuffle(x)\n",
    "    improve(x)\n",
    "    population.append(x)\n",
    "\n",
    "register=[]\n",
    "i=0\n",
    "distance, result_path = get_result(population)\n",
    "while i<itter_time:\n",
    "    #选择繁殖个体群\n",
    "    parents=selection(population)\n",
    "    #交叉繁殖\n",
    "    children=crossover(parents)\n",
    "    #变异操作\n",
    "    mutation(children)\n",
    "    #更新种群\n",
    "    population=parents+children\n",
    " \n",
    "    distance,result_path=get_result(population)\n",
    "    register.append(distance)\n",
    "    i=i+1"
   ]
  },
  {
   "cell_type": "code",
   "execution_count": 91,
   "metadata": {},
   "outputs": [
    {
     "name": "stdout",
     "output_type": "stream",
     "text": [
      "859.765866179451\n",
      "[0, 4, 10, 11, 14, 8, 6, 5, 16, 12, 17, 19, 9, 2, 18, 3, 13, 7, 1]\n"
     ]
    }
   ],
   "source": [
    "print(distance)\n",
    "print(result_path)"
   ]
  },
  {
   "cell_type": "code",
   "execution_count": 92,
   "metadata": {},
   "outputs": [],
   "source": [
    "dataset=np.mat(city_condition)"
   ]
  },
  {
   "cell_type": "code",
   "execution_count": 93,
   "metadata": {},
   "outputs": [
    {
     "data": {
      "image/png": "[encoded data removed]",
      "text/plain": [
       "<Figure size 432x288 with 1 Axes>"
      ]
     },
     "metadata": {
      "needs_background": "light"
     },
     "output_type": "display_data"
    }
   ],
   "source": [
    "X=[]\n",
    "Y=[]\n",
    "for index in result_path:\n",
    "    X.append(dataset[index,0])\n",
    "    Y.append(dataset[index, 1])\n",
    "plt.plot(X,Y,'-o')\n",
    "plt.show()"
   ]
  },
  {
   "cell_type": "code",
   "execution_count": 94,
   "metadata": {},
   "outputs": [
    {
     "data": {
      "image/png": "[encoded data removed]",
      "text/plain": [
       "<Figure size 432x288 with 1 Axes>"
      ]
     },
     "metadata": {
      "needs_background": "light"
     },
     "output_type": "display_data"
    }
   ],
   "source": [
    "plt.plot(list(range(len(register))),register)\n",
    "plt.show()"
   ]
  }
 ],
 "metadata": {
  "kernelspec": {
   "display_name": "Python 3",
   "language": "python",
   "name": "python3"
  },
  "language_info": {
   "codemirror_mode": {
    "name": "ipython",
    "version": 3
   },
   "file_extension": ".py",
   "mimetype": "text/x-python",
   "name": "python",
   "nbconvert_exporter": "python",
   "pygments_lexer": "ipython3",
   "version": "3.7.0"
  }
 },
 "nbformat": 4,
 "nbformat_minor": 2
}
