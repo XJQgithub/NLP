{
 "cells": [
  {
   "cell_type": "code",
   "execution_count": 1,
   "metadata": {
    "collapsed": true
   },
   "outputs": [],
   "source": [
    "import numpy as np"
   ]
  },
  {
   "cell_type": "code",
   "execution_count": 2,
   "metadata": {
    "collapsed": true
   },
   "outputs": [],
   "source": [
    "from sklearn.datasets import load_boston"
   ]
  },
  {
   "cell_type": "code",
   "execution_count": null,
   "metadata": {
    "collapsed": true
   },
   "outputs": [],
   "source": [
    "import matplotlib.pyplot as plt"
   ]
  },
  {
   "cell_type": "markdown",
   "metadata": {},
   "source": [
    "## 构造基类"
   ]
  },
  {
   "cell_type": "code",
   "execution_count": 3,
   "metadata": {
    "collapsed": true
   },
   "outputs": [],
   "source": [
    "class Node:\n",
    "    def __init__(self,inputs=[]):\n",
    "        self.inputs=inputs\n",
    "        self.value=None\n",
    "        self.outputs=[]\n",
    "        self.gradients={}\n",
    "        for node in self.inputs:\n",
    "            node.outputs.append(self)\n",
    "    def forward(self):\n",
    "        raise NotImplemented\n",
    "    def backward(self):\n",
    "        raise NotImplemented  "
   ]
  },
  {
   "cell_type": "code",
   "execution_count": 4,
   "metadata": {},
   "outputs": [],
   "source": [
    "class Input(Node):\n",
    "    \n",
    "    def __init__(self,name = ''):\n",
    "        Node.__init__(self,inputs = [])\n",
    "        self.name = name\n",
    "        \n",
    "    def forward(self,value = None):\n",
    "        if value is not None:\n",
    "            self.value = value\n",
    "            \n",
    "    def backward(self):\n",
    "        self.gradients = {}\n",
    "        \n",
    "        for n in self.outputs:\n",
    "            grad_cost = n.gradients[self]\n",
    "            self.gradients[self] = grad_cost\n",
    "            \n",
    "    def __repr__(self):\n",
    "        return 'Input Node:{}'.format(self.name)"
   ]
  },
  {
   "cell_type": "code",
   "execution_count": 5,
   "metadata": {
    "collapsed": true
   },
   "outputs": [],
   "source": [
    "class Linear(Node):\n",
    "    def __init__(self,nodes,weights,bias):\n",
    "        self.x_node = nodes\n",
    "        self.w_node = weights\n",
    "        self.b_node = bias\n",
    "        Node.__init__(self,inputs = [nodes,weights,bias])\n",
    "        \n",
    "    def forward(self):\n",
    "        self.value = np.dot(self.x_node.value,self.w_node.value)+ self.b_node.value\n",
    "        \n",
    "    def backward(self):\n",
    "        \n",
    "        for node in self.outputs:\n",
    "            grad_cost = node.gradients[self]\n",
    "            \n",
    "            self.gradients[self.x_node] = np.dot(grad_cost,self.w_node.value.T)\n",
    "            self.gradients[self.w_node] = np.dot(self.x_node.value.T,grad_cost)\n",
    "            self.gradients[self.b_node] = np.sum(grad_cost * 1,axis = 0,keepdims =False)"
   ]
  },
  {
   "cell_type": "code",
   "execution_count": 6,
   "metadata": {},
   "outputs": [],
   "source": [
    "class Sigmoid(Node):\n",
    "    def __init__(self,node):\n",
    "        Node.__init__(self,[node])\n",
    "        self.x_node = node\n",
    "    \n",
    "    def _sigmoid(self,x):\n",
    "        return 1./(1+np.exp(-1*x))\n",
    "    \n",
    "    def forward(self):\n",
    "        self.value = self._sigmoid(self.x_node.value)\n",
    "    \n",
    "    def backward(self):\n",
    "        y = self.value\n",
    "        \n",
    "        self.partial = y * (1-y)\n",
    "        \n",
    "        for n in self.outputs:\n",
    "            grad_cost = n.gradients[self]\n",
    "            \n",
    "            self.gradients[self.x_node] = grad_cost * self.partial"
   ]
  },
  {
   "cell_type": "code",
   "execution_count": 7,
   "metadata": {
    "collapsed": true
   },
   "outputs": [],
   "source": [
    "W1 = np.array([[1, 1], [1, 2], [1, 3]])"
   ]
  },
  {
   "cell_type": "code",
   "execution_count": 8,
   "metadata": {},
   "outputs": [
    {
     "data": {
      "text/plain": [
       "array([[1],\n",
       "       [1],\n",
       "       [1],\n",
       "       [2],\n",
       "       [1],\n",
       "       [3]])"
      ]
     },
     "execution_count": 8,
     "metadata": {},
     "output_type": "execute_result"
    }
   ],
   "source": [
    "W1.reshape(-1, 1)"
   ]
  },
  {
   "cell_type": "code",
   "execution_count": 9,
   "metadata": {},
   "outputs": [],
   "source": [
    "class MSE(Node):\n",
    "    def __init__(self,y_true,y_hat):\n",
    "        self.y_true_node = y_true\n",
    "        self.y_hat_node = y_hat\n",
    "        Node.__init__(self,inputs = [y_true,y_hat])\n",
    "        \n",
    "    def forward(self):\n",
    "        y_true_flatten = self.y_true_node.value.reshape(-1,1)\n",
    "        y_hat_flatten = self.y_hat_node.value.reshape(-1,1)\n",
    "        \n",
    "        self.diff = y_true_flatten - y_hat_flatten\n",
    "        \n",
    "        self.value = np.mean(self.diff *2)\n",
    "        \n",
    "    def backward(self):\n",
    "        n = self.y_hat_node.value.shape[0]\n",
    "        \n",
    "        self.gradients[self.y_true_node] = (2/n) * self.diff\n",
    "        self.gradients[self.y_hat_node] = (-2/n) * self.diff"
   ]
  },
  {
   "cell_type": "code",
   "execution_count": 10,
   "metadata": {
    "collapsed": true
   },
   "outputs": [],
   "source": [
    "def training_one_batch(topological_sorted_graph):\n",
    "    for node in topological_sorted_graph:\n",
    "        node.forward()\n",
    "        \n",
    "    for node in topological_sorted_graph[::-1]:\n",
    "        node.backward()"
   ]
  },
  {
   "cell_type": "code",
   "execution_count": 11,
   "metadata": {},
   "outputs": [],
   "source": [
    "def topological_sorted_sort(data_with_value):\n",
    "    feed_dict = data_with_value\n",
    "    inputs_nodes = [n for n in feed_dict.keys()]\n",
    "    \n",
    "    G = {}\n",
    "    nodes = [n for n in inputs_nodes]\n",
    "    while len(nodes)>0:\n",
    "        n = nodes.pop(0)\n",
    "        if n not in G:\n",
    "            G[n] = {\"in\":set(),\"out\":set()}\n",
    "        for m in n.outputs:\n",
    "            if m not in G:\n",
    "                G[m] = {\"in\":set(),\"out\":set()}\n",
    "            G[n]['out'].add(m)\n",
    "            G[m]['in'].add(n)\n",
    "            nodes.append(m)\n",
    "            \n",
    "    L = []\n",
    "    S = set(inputs_nodes)\n",
    "    while len(S)>0:\n",
    "        n =S.pop()\n",
    "        \n",
    "        if isinstance(n,Input):\n",
    "            n.value = feed_dict[n]\n",
    "            \n",
    "        L.append(n)\n",
    "        for m in n.outputs:\n",
    "            G[n]['out'].remove(m)\n",
    "            G[m]['in'].remove(n)\n",
    "            if len(G[m]['in'])==0:\n",
    "                S.add(m)\n",
    "    return L"
   ]
  },
  {
   "cell_type": "code",
   "execution_count": 12,
   "metadata": {},
   "outputs": [],
   "source": [
    "def sgd_update(trainable_nodes,learning_rate = 1e-2):\n",
    "    for t in trainable_nodes:\n",
    "        t.value += -1 * learning_rate * t.gradients[t]"
   ]
  },
  {
   "cell_type": "code",
   "execution_count": 13,
   "metadata": {
    "collapsed": true
   },
   "outputs": [],
   "source": [
    "data = load_boston()"
   ]
  },
  {
   "cell_type": "code",
   "execution_count": 14,
   "metadata": {},
   "outputs": [],
   "source": [
    "X_ = data['data']"
   ]
  },
  {
   "cell_type": "code",
   "execution_count": 15,
   "metadata": {},
   "outputs": [
    {
     "data": {
      "text/plain": [
       "array([1, 2, 3])"
      ]
     },
     "execution_count": 15,
     "metadata": {},
     "output_type": "execute_result"
    }
   ],
   "source": [
    "X = np.array([1, 2, 3])\n",
    "X"
   ]
  },
  {
   "cell_type": "code",
   "execution_count": 16,
   "metadata": {},
   "outputs": [],
   "source": [
    "Y_ = data['target']"
   ]
  },
  {
   "cell_type": "code",
   "execution_count": 17,
   "metadata": {},
   "outputs": [],
   "source": [
    "X_ = (X_ - np.mean(X_,axis = 0))/ np.std(X_,axis =0)"
   ]
  },
  {
   "cell_type": "code",
   "execution_count": 18,
   "metadata": {},
   "outputs": [
    {
     "data": {
      "text/plain": [
       "(506, 13)"
      ]
     },
     "execution_count": 18,
     "metadata": {},
     "output_type": "execute_result"
    }
   ],
   "source": [
    "X_.shape"
   ]
  },
  {
   "cell_type": "code",
   "execution_count": 19,
   "metadata": {},
   "outputs": [],
   "source": [
    "n_feature = X_.shape[1]"
   ]
  },
  {
   "cell_type": "code",
   "execution_count": 20,
   "metadata": {
    "collapsed": true
   },
   "outputs": [],
   "source": [
    "n_hidden = 10  #"
   ]
  },
  {
   "cell_type": "code",
   "execution_count": 21,
   "metadata": {
    "collapsed": true
   },
   "outputs": [],
   "source": [
    "n_hidden_2 = 10"
   ]
  },
  {
   "cell_type": "code",
   "execution_count": 22,
   "metadata": {
    "collapsed": true
   },
   "outputs": [],
   "source": [
    "w1_,b1_ = np.random.randn(n_feature,n_hidden),np.zeros(n_hidden)"
   ]
  },
  {
   "cell_type": "code",
   "execution_count": 23,
   "metadata": {},
   "outputs": [],
   "source": [
    "w2_,b2_ = np.random.randn(n_hidden,1),np.zeros(1)"
   ]
  },
  {
   "cell_type": "code",
   "execution_count": 24,
   "metadata": {},
   "outputs": [
    {
     "data": {
      "text/plain": [
       "array([0., 0., 0., 0., 0., 0., 0., 0., 0., 0.])"
      ]
     },
     "execution_count": 24,
     "metadata": {},
     "output_type": "execute_result"
    }
   ],
   "source": [
    "b1_"
   ]
  },
  {
   "cell_type": "code",
   "execution_count": 25,
   "metadata": {},
   "outputs": [
    {
     "data": {
      "text/plain": [
       "array([0.])"
      ]
     },
     "execution_count": 25,
     "metadata": {},
     "output_type": "execute_result"
    }
   ],
   "source": [
    "b2_"
   ]
  },
  {
   "cell_type": "markdown",
   "metadata": {},
   "source": [
    "# Build a graph connection ,Step:"
   ]
  },
  {
   "cell_type": "markdown",
   "metadata": {},
   "source": [
    "## 1st:Build nodes in this graph"
   ]
  },
  {
   "cell_type": "code",
   "execution_count": 26,
   "metadata": {
    "collapsed": true
   },
   "outputs": [],
   "source": [
    "X,Y = Input(name='X'),Input(name='Y')\n",
    "w1,b1 =Input(name='w1'),Input(name='b1')\n",
    "w2,b2 =Input(name='w2'),Input(name='b2')"
   ]
  },
  {
   "cell_type": "markdown",
   "metadata": {},
   "source": [
    "## 2rd:Build connection relationship"
   ]
  },
  {
   "cell_type": "code",
   "execution_count": 27,
   "metadata": {},
   "outputs": [],
   "source": [
    "linear_output = Linear(X,w1,b1)\n",
    "sigmoid_output = Sigmoid(linear_output)\n",
    "Y_hat = Linear(sigmoid_output,w2,b2)\n",
    "loss =MSE(Y,Y_hat)"
   ]
  },
  {
   "cell_type": "markdown",
   "metadata": {},
   "source": [
    "## 我们可以把网络变得更为复杂"
   ]
  },
  {
   "cell_type": "code",
   "execution_count": 28,
   "metadata": {},
   "outputs": [],
   "source": [
    "input_node_with_value = {\n",
    "    X:X_,\n",
    "    Y:Y_,\n",
    "    w1:w1_,\n",
    "    w2:w2_,\n",
    "    b1:b1_,\n",
    "    b2:b2_\n",
    "}"
   ]
  },
  {
   "cell_type": "code",
   "execution_count": 29,
   "metadata": {},
   "outputs": [],
   "source": [
    "graph = topological_sorted_sort(input_node_with_value)"
   ]
  },
  {
   "cell_type": "code",
   "execution_count": 30,
   "metadata": {},
   "outputs": [
    {
     "data": {
      "text/plain": [
       "[Input Node:X,\n",
       " Input Node:b1,\n",
       " Input Node:w2,\n",
       " Input Node:b2,\n",
       " Input Node:Y,\n",
       " Input Node:w1,\n",
       " <__main__.Linear at 0x194ebbb89e8>,\n",
       " <__main__.Sigmoid at 0x194ebbb8fd0>,\n",
       " <__main__.Linear at 0x194ebbb84a8>,\n",
       " <__main__.MSE at 0x194ebbb8400>]"
      ]
     },
     "execution_count": 30,
     "metadata": {},
     "output_type": "execute_result"
    }
   ],
   "source": [
    "graph"
   ]
  },
  {
   "cell_type": "code",
   "execution_count": 31,
   "metadata": {
    "collapsed": true
   },
   "outputs": [],
   "source": [
    "from sklearn.utils import resample"
   ]
  },
  {
   "cell_type": "code",
   "execution_count": 32,
   "metadata": {},
   "outputs": [
    {
     "data": {
      "text/plain": [
       "array([35, 94,  3, 49, 64, 78,  4, 44, 24, 82])"
      ]
     },
     "execution_count": 32,
     "metadata": {},
     "output_type": "execute_result"
    }
   ],
   "source": [
    "np.random.choice(range(100),size = 10,replace =True)"
   ]
  },
  {
   "cell_type": "code",
   "execution_count": 33,
   "metadata": {
    "collapsed": true
   },
   "outputs": [],
   "source": [
    "def run(dictionary):\n",
    "    return topological_sorted_sort(dictionary)"
   ]
  },
  {
   "cell_type": "code",
   "execution_count": 37,
   "metadata": {},
   "outputs": [
    {
     "name": "stdout",
     "output_type": "stream",
     "text": [
      "epoch:1,loss:-0.059\n",
      "epoch:101,loss:-0.059\n",
      "epoch:201,loss:-0.057\n",
      "epoch:301,loss:-0.055\n",
      "epoch:401,loss:-0.054\n",
      "epoch:501,loss:-0.052\n",
      "epoch:601,loss:-0.050\n",
      "epoch:701,loss:-0.048\n",
      "epoch:801,loss:-0.046\n",
      "epoch:901,loss:-0.044\n",
      "epoch:1001,loss:-0.042\n",
      "epoch:1101,loss:-0.041\n",
      "epoch:1201,loss:-0.040\n",
      "epoch:1301,loss:-0.038\n",
      "epoch:1401,loss:-0.037\n",
      "epoch:1501,loss:-0.036\n",
      "epoch:1601,loss:-0.035\n",
      "epoch:1701,loss:-0.034\n",
      "epoch:1801,loss:-0.033\n",
      "epoch:1901,loss:-0.033\n",
      "epoch:2001,loss:-0.032\n",
      "epoch:2101,loss:-0.031\n",
      "epoch:2201,loss:-0.030\n",
      "epoch:2301,loss:-0.030\n",
      "epoch:2401,loss:-0.029\n",
      "epoch:2501,loss:-0.028\n",
      "epoch:2601,loss:-0.027\n",
      "epoch:2701,loss:-0.027\n",
      "epoch:2801,loss:-0.026\n",
      "epoch:2901,loss:-0.025\n",
      "epoch:3001,loss:-0.024\n",
      "epoch:3101,loss:-0.024\n",
      "epoch:3201,loss:-0.023\n",
      "epoch:3301,loss:-0.022\n",
      "epoch:3401,loss:-0.022\n",
      "epoch:3501,loss:-0.021\n",
      "epoch:3601,loss:-0.021\n",
      "epoch:3701,loss:-0.020\n",
      "epoch:3801,loss:-0.020\n",
      "epoch:3901,loss:-0.019\n",
      "epoch:4001,loss:-0.019\n",
      "epoch:4101,loss:-0.018\n",
      "epoch:4201,loss:-0.018\n",
      "epoch:4301,loss:-0.017\n",
      "epoch:4401,loss:-0.017\n",
      "epoch:4501,loss:-0.017\n",
      "epoch:4601,loss:-0.016\n",
      "epoch:4701,loss:-0.016\n",
      "epoch:4801,loss:-0.016\n",
      "epoch:4901,loss:-0.015\n"
     ]
    }
   ],
   "source": [
    "losses =[]\n",
    "epochs =5000\n",
    "batch_size = 64\n",
    "step_per_epoch = X_.shape[0]//batch_size\n",
    "\n",
    "for i in range(epochs):\n",
    "    loss = 0\n",
    "    for batch in range(step_per_epoch):\n",
    "        X_batch,Y_batch = resample(X_,Y_,n_samples = batch_size)\n",
    "        \n",
    "        X_value = X_batch\n",
    "        Y_value = Y_batch\n",
    "        \n",
    "        training_one_batch(graph)\n",
    "        \n",
    "        learning_rate =1e-3\n",
    "        \n",
    "        sgd_update(trainable_nodes = [w1,w2,b1,b2],learning_rate = learning_rate)\n",
    "        \n",
    "        loss +=graph[-1].value\n",
    "    \n",
    "    if i % 100 ==0:\n",
    "        print('epoch:{},loss:{:.3f}'.format(i+1,loss/step_per_epoch))\n",
    "        #print('Epoch: {}, loss = {:.3f}'.format(i+1, loss/steps_per_epoch))\n",
    "        losses.append(loss)"
   ]
  },
  {
   "cell_type": "code",
   "execution_count": 42,
   "metadata": {},
   "outputs": [
    {
     "data": {
      "text/plain": [
       "[<matplotlib.lines.Line2D at 0x194ee50b2e8>]"
      ]
     },
     "execution_count": 42,
     "metadata": {},
     "output_type": "execute_result"
    }
   ],
   "source": [
    "plt.plot(losses)"
   ]
  },
  {
   "cell_type": "code",
   "execution_count": 43,
   "metadata": {},
   "outputs": [
    {
     "data": {
      "image/png": "[encoded data removed]",
      "text/plain": [
       "<Figure size 432x288 with 1 Axes>"
      ]
     },
     "metadata": {},
     "output_type": "display_data"
    }
   ],
   "source": [
    "plt.show()"
   ]
  }
 ],
 "metadata": {
  "kernelspec": {
   "display_name": "Python 3",
   "language": "python",
   "name": "python3"
  },
  "language_info": {
   "codemirror_mode": {
    "name": "ipython",
    "version": 3
   },
   "file_extension": ".py",
   "mimetype": "text/x-python",
   "name": "python",
   "nbconvert_exporter": "python",
   "pygments_lexer": "ipython3",
   "version": "3.5.4"
  }
 },
 "nbformat": 4,
 "nbformat_minor": 2
}
