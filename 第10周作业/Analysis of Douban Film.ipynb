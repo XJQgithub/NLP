{
 "cells": [
  {
   "cell_type": "code",
   "execution_count": 1,
   "metadata": {
    "collapsed": true
   },
   "outputs": [],
   "source": [
    "from tqdm import tqdm"
   ]
  },
  {
   "cell_type": "code",
   "execution_count": 41,
   "metadata": {
    "collapsed": true
   },
   "outputs": [],
   "source": [
    "import numpy as np"
   ]
  },
  {
   "cell_type": "code",
   "execution_count": 2,
   "metadata": {
    "collapsed": true
   },
   "outputs": [],
   "source": [
    "import pandas as pd"
   ]
  },
  {
   "cell_type": "code",
   "execution_count": 3,
   "metadata": {
    "collapsed": true
   },
   "outputs": [],
   "source": [
    "from pyltp import Segmentor"
   ]
  },
  {
   "cell_type": "code",
   "execution_count": 4,
   "metadata": {
    "collapsed": true
   },
   "outputs": [],
   "source": [
    "import os"
   ]
  },
  {
   "cell_type": "code",
   "execution_count": 5,
   "metadata": {
    "collapsed": true
   },
   "outputs": [],
   "source": [
    "import re"
   ]
  },
  {
   "cell_type": "code",
   "execution_count": 30,
   "metadata": {
    "collapsed": true
   },
   "outputs": [],
   "source": [
    "from gensim.models import KeyedVectors"
   ]
  },
  {
   "cell_type": "code",
   "execution_count": 193,
   "metadata": {
    "collapsed": true
   },
   "outputs": [],
   "source": [
    "from tensorflow.python.keras.models import Sequential"
   ]
  },
  {
   "cell_type": "code",
   "execution_count": 196,
   "metadata": {
    "collapsed": true
   },
   "outputs": [],
   "source": [
    "from tensorflow.python.keras.layers import Dense, GRU, Embedding, LSTM, Bidirectional"
   ]
  },
  {
   "cell_type": "code",
   "execution_count": 209,
   "metadata": {
    "collapsed": true
   },
   "outputs": [],
   "source": [
    "from tensorflow.python.keras.optimizers import Adam"
   ]
  },
  {
   "cell_type": "code",
   "execution_count": 214,
   "metadata": {
    "collapsed": true
   },
   "outputs": [],
   "source": [
    "from tensorflow.python.keras.callbacks import EarlyStopping, ModelCheckpoint, TensorBoard, ReduceLROnPlateau"
   ]
  },
  {
   "cell_type": "code",
   "execution_count": 7,
   "metadata": {
    "collapsed": true
   },
   "outputs": [],
   "source": [
    "fname = '..\\\\Desktop\\\\movie_comments.csv'"
   ]
  },
  {
   "cell_type": "code",
   "execution_count": 8,
   "metadata": {},
   "outputs": [
    {
     "name": "stderr",
     "output_type": "stream",
     "text": [
      "C:\\Users\\672\\.conda\\envs\\tensorflow\\lib\\site-packages\\IPython\\core\\interactiveshell.py:2698: DtypeWarning: Columns (0,4) have mixed types. Specify dtype option on import or set low_memory=False.\n",
      "  interactivity=interactivity, compiler=compiler, result=result)\n"
     ]
    }
   ],
   "source": [
    "comments = pd.read_csv(fname,encoding='utf8')"
   ]
  },
  {
   "cell_type": "code",
   "execution_count": 9,
   "metadata": {},
   "outputs": [
    {
     "data": {
      "text/html": [
       "<div>\n",
       "<style scoped>\n",
       "    .dataframe tbody tr th:only-of-type {\n",
       "        vertical-align: middle;\n",
       "    }\n",
       "\n",
       "    .dataframe tbody tr th {\n",
       "        vertical-align: top;\n",
       "    }\n",
       "\n",
       "    .dataframe thead th {\n",
       "        text-align: right;\n",
       "    }\n",
       "</style>\n",
       "<table border=\"1\" class=\"dataframe\">\n",
       "  <thead>\n",
       "    <tr style=\"text-align: right;\">\n",
       "      <th></th>\n",
       "      <th>id</th>\n",
       "      <th>link</th>\n",
       "      <th>name</th>\n",
       "      <th>comment</th>\n",
       "      <th>star</th>\n",
       "    </tr>\n",
       "  </thead>\n",
       "  <tbody>\n",
       "    <tr>\n",
       "      <th>0</th>\n",
       "      <td>1</td>\n",
       "      <td>https://movie.douban.com/subject/26363254/</td>\n",
       "      <td>战狼2</td>\n",
       "      <td>吴京意淫到了脑残的地步，看了恶心想吐</td>\n",
       "      <td>1</td>\n",
       "    </tr>\n",
       "    <tr>\n",
       "      <th>1</th>\n",
       "      <td>2</td>\n",
       "      <td>https://movie.douban.com/subject/26363254/</td>\n",
       "      <td>战狼2</td>\n",
       "      <td>首映礼看的。太恐怖了这个电影，不讲道理的，完全就是吴京在实现他这个小粉红的英雄梦。各种装备轮...</td>\n",
       "      <td>2</td>\n",
       "    </tr>\n",
       "    <tr>\n",
       "      <th>2</th>\n",
       "      <td>3</td>\n",
       "      <td>https://movie.douban.com/subject/26363254/</td>\n",
       "      <td>战狼2</td>\n",
       "      <td>吴京的炒作水平不输冯小刚，但小刚至少不会用主旋律来炒作…吴京让人看了不舒服，为了主旋律而主旋...</td>\n",
       "      <td>2</td>\n",
       "    </tr>\n",
       "    <tr>\n",
       "      <th>3</th>\n",
       "      <td>4</td>\n",
       "      <td>https://movie.douban.com/subject/26363254/</td>\n",
       "      <td>战狼2</td>\n",
       "      <td>凭良心说，好看到不像《战狼1》的续集，完虐《湄公河行动》。</td>\n",
       "      <td>4</td>\n",
       "    </tr>\n",
       "    <tr>\n",
       "      <th>4</th>\n",
       "      <td>5</td>\n",
       "      <td>https://movie.douban.com/subject/26363254/</td>\n",
       "      <td>战狼2</td>\n",
       "      <td>中二得很</td>\n",
       "      <td>1</td>\n",
       "    </tr>\n",
       "    <tr>\n",
       "      <th>5</th>\n",
       "      <td>6</td>\n",
       "      <td>https://movie.douban.com/subject/26363254/</td>\n",
       "      <td>战狼2</td>\n",
       "      <td>“犯我中华者，虽远必诛”，吴京比这句话还要意淫一百倍。</td>\n",
       "      <td>1</td>\n",
       "    </tr>\n",
       "    <tr>\n",
       "      <th>6</th>\n",
       "      <td>7</td>\n",
       "      <td>https://movie.douban.com/subject/26363254/</td>\n",
       "      <td>战狼2</td>\n",
       "      <td>脑子是个好东西，希望编剧们都能有。</td>\n",
       "      <td>2</td>\n",
       "    </tr>\n",
       "    <tr>\n",
       "      <th>7</th>\n",
       "      <td>8</td>\n",
       "      <td>https://movie.douban.com/subject/26363254/</td>\n",
       "      <td>战狼2</td>\n",
       "      <td>三星半，实打实的7分。第一集在爱国主旋律内部做着各种置换与较劲，但第二集才真正显露吴京的野心...</td>\n",
       "      <td>4</td>\n",
       "    </tr>\n",
       "    <tr>\n",
       "      <th>8</th>\n",
       "      <td>9</td>\n",
       "      <td>https://movie.douban.com/subject/26363254/</td>\n",
       "      <td>战狼2</td>\n",
       "      <td>开篇长镜头惊险大气引人入胜 结合了水平不俗的快剪下实打实的真刀真枪 让人不禁热血沸腾 特别弹...</td>\n",
       "      <td>4</td>\n",
       "    </tr>\n",
       "    <tr>\n",
       "      <th>9</th>\n",
       "      <td>10</td>\n",
       "      <td>https://movie.douban.com/subject/26363254/</td>\n",
       "      <td>战狼2</td>\n",
       "      <td>15/100吴京的冷峰在这部里即像成龙，又像杰森斯坦森，但体制外的同类型电影，主角总是代表个...</td>\n",
       "      <td>1</td>\n",
       "    </tr>\n",
       "    <tr>\n",
       "      <th>10</th>\n",
       "      <td>11</td>\n",
       "      <td>https://movie.douban.com/subject/26363254/</td>\n",
       "      <td>战狼2</td>\n",
       "      <td>犯我中华者虽远必诛，是有多无脑才信这句话。</td>\n",
       "      <td>1</td>\n",
       "    </tr>\n",
       "    <tr>\n",
       "      <th>11</th>\n",
       "      <td>12</td>\n",
       "      <td>https://movie.douban.com/subject/26363254/</td>\n",
       "      <td>战狼2</td>\n",
       "      <td>这部戏让人看的热血沸腾，对吴京路转粉，最后的彩蛋，让我们没有理由不期待下一部。</td>\n",
       "      <td>4</td>\n",
       "    </tr>\n",
       "    <tr>\n",
       "      <th>12</th>\n",
       "      <td>13</td>\n",
       "      <td>https://movie.douban.com/subject/26363254/</td>\n",
       "      <td>战狼2</td>\n",
       "      <td>假嗨，特别恶心的电影。</td>\n",
       "      <td>1</td>\n",
       "    </tr>\n",
       "    <tr>\n",
       "      <th>13</th>\n",
       "      <td>14</td>\n",
       "      <td>https://movie.douban.com/subject/26363254/</td>\n",
       "      <td>战狼2</td>\n",
       "      <td>有几处情节设置过于尴尬，彰显国家自豪感的部分稍显突兀。</td>\n",
       "      <td>2</td>\n",
       "    </tr>\n",
       "    <tr>\n",
       "      <th>14</th>\n",
       "      <td>15</td>\n",
       "      <td>https://movie.douban.com/subject/26363254/</td>\n",
       "      <td>战狼2</td>\n",
       "      <td>就是一部爽片，打戏挺燃，但是故事一般。达康书记不合适这个角色，赵东来倒是很合适。张瀚太太太违...</td>\n",
       "      <td>2</td>\n",
       "    </tr>\n",
       "    <tr>\n",
       "      <th>15</th>\n",
       "      <td>16</td>\n",
       "      <td>https://movie.douban.com/subject/26363254/</td>\n",
       "      <td>战狼2</td>\n",
       "      <td>赵东来：达康书记，我们接到在非洲卧底的冷锋报告，丁义珍现在非洲，我们请求抓捕。李达康：东来，...</td>\n",
       "      <td>5</td>\n",
       "    </tr>\n",
       "    <tr>\n",
       "      <th>16</th>\n",
       "      <td>17</td>\n",
       "      <td>https://movie.douban.com/subject/26363254/</td>\n",
       "      <td>战狼2</td>\n",
       "      <td>下一部拍喜剧吧，整个片子真感觉挺搞笑的</td>\n",
       "      <td>2</td>\n",
       "    </tr>\n",
       "    <tr>\n",
       "      <th>17</th>\n",
       "      <td>18</td>\n",
       "      <td>https://movie.douban.com/subject/26363254/</td>\n",
       "      <td>战狼2</td>\n",
       "      <td>《战狼2》里吴京这么能打，他打得过徐晓冬么？</td>\n",
       "      <td>3</td>\n",
       "    </tr>\n",
       "    <tr>\n",
       "      <th>18</th>\n",
       "      <td>19</td>\n",
       "      <td>https://movie.douban.com/subject/26363254/</td>\n",
       "      <td>战狼2</td>\n",
       "      <td>心往一处想，劲往一处使，就能实现我们的梦想。看吧，比第一部好太多了。谢谢美队的动作指导。</td>\n",
       "      <td>3</td>\n",
       "    </tr>\n",
       "    <tr>\n",
       "      <th>19</th>\n",
       "      <td>20</td>\n",
       "      <td>https://movie.douban.com/subject/26363254/</td>\n",
       "      <td>战狼2</td>\n",
       "      <td>这都能火。是我没见识！</td>\n",
       "      <td>2</td>\n",
       "    </tr>\n",
       "    <tr>\n",
       "      <th>20</th>\n",
       "      <td>21</td>\n",
       "      <td>https://movie.douban.com/subject/26363254/</td>\n",
       "      <td>战狼2</td>\n",
       "      <td>开头的水下长对决戏可算华语电影的顶尖存在；驱逐舰、导弹和坦克在商业片里这么狂用也是了得；镜头...</td>\n",
       "      <td>4</td>\n",
       "    </tr>\n",
       "    <tr>\n",
       "      <th>21</th>\n",
       "      <td>22</td>\n",
       "      <td>https://movie.douban.com/subject/26363254/</td>\n",
       "      <td>战狼2</td>\n",
       "      <td>很用心啊吴京导演，小看你了，确实在导演上下功夫了拉片子了，知道借鉴是好的。至于大家比较反感的...</td>\n",
       "      <td>4</td>\n",
       "    </tr>\n",
       "    <tr>\n",
       "      <th>22</th>\n",
       "      <td>23</td>\n",
       "      <td>https://movie.douban.com/subject/26363254/</td>\n",
       "      <td>战狼2</td>\n",
       "      <td>犯我中华者虽远必诛，这句话一直在我脑子里回响</td>\n",
       "      <td>4</td>\n",
       "    </tr>\n",
       "    <tr>\n",
       "      <th>23</th>\n",
       "      <td>24</td>\n",
       "      <td>https://movie.douban.com/subject/26363254/</td>\n",
       "      <td>战狼2</td>\n",
       "      <td>片头海里那场动作戏看完就呆不下去了，太假太做作，提前离场。</td>\n",
       "      <td>1</td>\n",
       "    </tr>\n",
       "    <tr>\n",
       "      <th>24</th>\n",
       "      <td>25</td>\n",
       "      <td>https://movie.douban.com/subject/26363254/</td>\n",
       "      <td>战狼2</td>\n",
       "      <td>好看，这部戏让人看的热血沸腾，打戏挺燃的，吴京演技棒呆了</td>\n",
       "      <td>4</td>\n",
       "    </tr>\n",
       "    <tr>\n",
       "      <th>25</th>\n",
       "      <td>26</td>\n",
       "      <td>https://movie.douban.com/subject/26363254/</td>\n",
       "      <td>战狼2</td>\n",
       "      <td>符合“有钱了续集反而拍更差”这一放之四海而皆准的规律，场面越做越大，然而伴随着各种动作场面和...</td>\n",
       "      <td>2</td>\n",
       "    </tr>\n",
       "    <tr>\n",
       "      <th>26</th>\n",
       "      <td>27</td>\n",
       "      <td>https://movie.douban.com/subject/26363254/</td>\n",
       "      <td>战狼2</td>\n",
       "      <td>说喜欢这部片子的人不是装傻就是真傻，要不是真的没有别的可看肯定是不会选这部的，直男癌到令人发...</td>\n",
       "      <td>2</td>\n",
       "    </tr>\n",
       "    <tr>\n",
       "      <th>27</th>\n",
       "      <td>28</td>\n",
       "      <td>https://movie.douban.com/subject/26363254/</td>\n",
       "      <td>战狼2</td>\n",
       "      <td>整部电影延续1的风格，热血。场面比1来的要大，打戏动作不错，吴京挺适合演军人的，电影之前的中...</td>\n",
       "      <td>4</td>\n",
       "    </tr>\n",
       "    <tr>\n",
       "      <th>28</th>\n",
       "      <td>29</td>\n",
       "      <td>https://movie.douban.com/subject/26363254/</td>\n",
       "      <td>战狼2</td>\n",
       "      <td>目瞪狗呆！太瘠薄好看了！中国人牛b就是硬道理！隔壁建军大爷都没你们爱国</td>\n",
       "      <td>1</td>\n",
       "    </tr>\n",
       "    <tr>\n",
       "      <th>29</th>\n",
       "      <td>30</td>\n",
       "      <td>https://movie.douban.com/subject/26363254/</td>\n",
       "      <td>战狼2</td>\n",
       "      <td>《战狼2》的动作场景和战斗装备全线升级，热血的打斗动作从头打到尾。《战狼2》游走在电影审查红...</td>\n",
       "      <td>4</td>\n",
       "    </tr>\n",
       "    <tr>\n",
       "      <th>...</th>\n",
       "      <td>...</td>\n",
       "      <td>...</td>\n",
       "      <td>...</td>\n",
       "      <td>...</td>\n",
       "      <td>...</td>\n",
       "    </tr>\n",
       "    <tr>\n",
       "      <th>261467</th>\n",
       "      <td>260120</td>\n",
       "      <td>https://movie.douban.com/subject/1441763/</td>\n",
       "      <td>不羁美少年 À cause d'un garçon</td>\n",
       "      <td>bg戏略出戏 结尾坑爹 不过男主真的有一双漂亮可爱的大眼睛啊太萌 但是我觉得他为人略让人受不了</td>\n",
       "      <td>3</td>\n",
       "    </tr>\n",
       "    <tr>\n",
       "      <th>261468</th>\n",
       "      <td>260121</td>\n",
       "      <td>https://movie.douban.com/subject/1441763/</td>\n",
       "      <td>不羁美少年 À cause d'un garçon</td>\n",
       "      <td>还行。</td>\n",
       "      <td>3</td>\n",
       "    </tr>\n",
       "    <tr>\n",
       "      <th>261469</th>\n",
       "      <td>260122</td>\n",
       "      <td>https://movie.douban.com/subject/1441763/</td>\n",
       "      <td>不羁美少年 À cause d'un garçon</td>\n",
       "      <td>无聊= =拍摄手法GJ</td>\n",
       "      <td>3</td>\n",
       "    </tr>\n",
       "    <tr>\n",
       "      <th>261470</th>\n",
       "      <td>260123</td>\n",
       "      <td>https://movie.douban.com/subject/1441763/</td>\n",
       "      <td>不羁美少年 À cause d'un garçon</td>\n",
       "      <td>小男主游泳游得真心挺快~</td>\n",
       "      <td>3</td>\n",
       "    </tr>\n",
       "    <tr>\n",
       "      <th>261471</th>\n",
       "      <td>260124</td>\n",
       "      <td>https://movie.douban.com/subject/1441763/</td>\n",
       "      <td>不羁美少年 À cause d'un garçon</td>\n",
       "      <td>Après avoir vu ce film à 2 heures 10, moi, je ...</td>\n",
       "      <td>4</td>\n",
       "    </tr>\n",
       "    <tr>\n",
       "      <th>261472</th>\n",
       "      <td>260125</td>\n",
       "      <td>https://movie.douban.com/subject/1441763/</td>\n",
       "      <td>不羁美少年 À cause d'un garçon</td>\n",
       "      <td>第一個吻好美。不卑不亢。整體感覺良好。這是比較現實和年輕的故事。</td>\n",
       "      <td>3</td>\n",
       "    </tr>\n",
       "    <tr>\n",
       "      <th>261473</th>\n",
       "      <td>260126</td>\n",
       "      <td>https://movie.douban.com/subject/1441763/</td>\n",
       "      <td>不羁美少年 À cause d'un garçon</td>\n",
       "      <td>文森忧郁的眼神叫人心疼。</td>\n",
       "      <td>4</td>\n",
       "    </tr>\n",
       "    <tr>\n",
       "      <th>261474</th>\n",
       "      <td>260127</td>\n",
       "      <td>https://movie.douban.com/subject/1441763/</td>\n",
       "      <td>不羁美少年 À cause d'un garçon</td>\n",
       "      <td>还不错，最后结尾互相追逐的那个恶寒啊...</td>\n",
       "      <td>4</td>\n",
       "    </tr>\n",
       "    <tr>\n",
       "      <th>261475</th>\n",
       "      <td>260128</td>\n",
       "      <td>https://movie.douban.com/subject/1441763/</td>\n",
       "      <td>不羁美少年 À cause d'un garçon</td>\n",
       "      <td>百度云居然。。。把我存的这片子禁了？！哈？！</td>\n",
       "      <td>3</td>\n",
       "    </tr>\n",
       "    <tr>\n",
       "      <th>261476</th>\n",
       "      <td>260129</td>\n",
       "      <td>https://movie.douban.com/subject/1441763/</td>\n",
       "      <td>不羁美少年 À cause d'un garçon</td>\n",
       "      <td>话说法国出帅哥，法国人喜欢浪漫，冲着片名我点犹豫都没有的看了，少年美不美真不好说，但是周围人...</td>\n",
       "      <td>3</td>\n",
       "    </tr>\n",
       "    <tr>\n",
       "      <th>261477</th>\n",
       "      <td>260130</td>\n",
       "      <td>https://movie.douban.com/subject/1441763/</td>\n",
       "      <td>不羁美少年 À cause d'un garçon</td>\n",
       "      <td>第一個吻好美。不卑不亢。整體感覺良好。這是比較現實和年輕的故事。</td>\n",
       "      <td>3</td>\n",
       "    </tr>\n",
       "    <tr>\n",
       "      <th>261478</th>\n",
       "      <td>260131</td>\n",
       "      <td>https://movie.douban.com/subject/1441763/</td>\n",
       "      <td>不羁美少年 À cause d'un garçon</td>\n",
       "      <td>文森忧郁的眼神叫人心疼。</td>\n",
       "      <td>4</td>\n",
       "    </tr>\n",
       "    <tr>\n",
       "      <th>261479</th>\n",
       "      <td>260132</td>\n",
       "      <td>https://movie.douban.com/subject/1441763/</td>\n",
       "      <td>不羁美少年 À cause d'un garçon</td>\n",
       "      <td>还不错，最后结尾互相追逐的那个恶寒啊...</td>\n",
       "      <td>4</td>\n",
       "    </tr>\n",
       "    <tr>\n",
       "      <th>261480</th>\n",
       "      <td>260133</td>\n",
       "      <td>https://movie.douban.com/subject/1441763/</td>\n",
       "      <td>不羁美少年 À cause d'un garçon</td>\n",
       "      <td>百度云居然。。。把我存的这片子禁了？！哈？！</td>\n",
       "      <td>3</td>\n",
       "    </tr>\n",
       "    <tr>\n",
       "      <th>261481</th>\n",
       "      <td>260134</td>\n",
       "      <td>https://movie.douban.com/subject/1441763/</td>\n",
       "      <td>不羁美少年 À cause d'un garçon</td>\n",
       "      <td>话说法国出帅哥，法国人喜欢浪漫，冲着片名我点犹豫都没有的看了，少年美不美真不好说，但是周围人...</td>\n",
       "      <td>3</td>\n",
       "    </tr>\n",
       "    <tr>\n",
       "      <th>261482</th>\n",
       "      <td>260135</td>\n",
       "      <td>https://movie.douban.com/subject/1441763/</td>\n",
       "      <td>不羁美少年 À cause d'un garçon</td>\n",
       "      <td>生活、爱情、亲情、友情、选择。</td>\n",
       "      <td>3</td>\n",
       "    </tr>\n",
       "    <tr>\n",
       "      <th>261483</th>\n",
       "      <td>260136</td>\n",
       "      <td>https://movie.douban.com/subject/1441763/</td>\n",
       "      <td>不羁美少年 À cause d'un garçon</td>\n",
       "      <td>一般般</td>\n",
       "      <td>3</td>\n",
       "    </tr>\n",
       "    <tr>\n",
       "      <th>261484</th>\n",
       "      <td>260137</td>\n",
       "      <td>https://movie.douban.com/subject/1441763/</td>\n",
       "      <td>不羁美少年 À cause d'un garçon</td>\n",
       "      <td>电影一般,可以随便看看.</td>\n",
       "      <td>3</td>\n",
       "    </tr>\n",
       "    <tr>\n",
       "      <th>261485</th>\n",
       "      <td>260138</td>\n",
       "      <td>https://movie.douban.com/subject/1441763/</td>\n",
       "      <td>不羁美少年 À cause d'un garçon</td>\n",
       "      <td>我到底是怎么看完它的..</td>\n",
       "      <td>1</td>\n",
       "    </tr>\n",
       "    <tr>\n",
       "      <th>261486</th>\n",
       "      <td>260139</td>\n",
       "      <td>https://movie.douban.com/subject/1441763/</td>\n",
       "      <td>不羁美少年 À cause d'un garçon</td>\n",
       "      <td>成长的烦恼，美型的少年，难以看清的真相。</td>\n",
       "      <td>4</td>\n",
       "    </tr>\n",
       "    <tr>\n",
       "      <th>261487</th>\n",
       "      <td>260140</td>\n",
       "      <td>https://movie.douban.com/subject/1441763/</td>\n",
       "      <td>不羁美少年 À cause d'un garçon</td>\n",
       "      <td>轻松喜剧电影</td>\n",
       "      <td>4</td>\n",
       "    </tr>\n",
       "    <tr>\n",
       "      <th>261488</th>\n",
       "      <td>260141</td>\n",
       "      <td>https://movie.douban.com/subject/1441763/</td>\n",
       "      <td>不羁美少年 À cause d'un garçon</td>\n",
       "      <td>温暖的剧情,温暖的结局...</td>\n",
       "      <td>3</td>\n",
       "    </tr>\n",
       "    <tr>\n",
       "      <th>261489</th>\n",
       "      <td>260142</td>\n",
       "      <td>https://movie.douban.com/subject/1441763/</td>\n",
       "      <td>不羁美少年 À cause d'un garçon</td>\n",
       "      <td>主角们都很好看 又是一个碧悲情的小女主角\\r\\n又是一段关于十七岁的故事</td>\n",
       "      <td>5</td>\n",
       "    </tr>\n",
       "    <tr>\n",
       "      <th>261490</th>\n",
       "      <td>260143</td>\n",
       "      <td>https://movie.douban.com/subject/1441763/</td>\n",
       "      <td>不羁美少年 À cause d'un garçon</td>\n",
       "      <td>一切都是爲了顏！！！= =||||||</td>\n",
       "      <td>3</td>\n",
       "    </tr>\n",
       "    <tr>\n",
       "      <th>261491</th>\n",
       "      <td>260144</td>\n",
       "      <td>https://movie.douban.com/subject/1441763/</td>\n",
       "      <td>不羁美少年 À cause d'un garçon</td>\n",
       "      <td>大概看了\\r\\n总的来说还是不错 其实内心是十分期待男主和他的好友发生点什么的 哎。。。</td>\n",
       "      <td>3</td>\n",
       "    </tr>\n",
       "    <tr>\n",
       "      <th>261492</th>\n",
       "      <td>260145</td>\n",
       "      <td>https://movie.douban.com/subject/1441763/</td>\n",
       "      <td>不羁美少年 À cause d'un garçon</td>\n",
       "      <td>内容只能说一般。。女性角色怎么都这么悲催啊！！不过男猪脚很帅</td>\n",
       "      <td>3</td>\n",
       "    </tr>\n",
       "    <tr>\n",
       "      <th>261493</th>\n",
       "      <td>260146</td>\n",
       "      <td>https://movie.douban.com/subject/1441763/</td>\n",
       "      <td>不羁美少年 À cause d'un garçon</td>\n",
       "      <td>翘了三天班就窝在家里看小基片惹（手动拜拜.gif</td>\n",
       "      <td>3</td>\n",
       "    </tr>\n",
       "    <tr>\n",
       "      <th>261494</th>\n",
       "      <td>260147</td>\n",
       "      <td>https://movie.douban.com/subject/1441763/</td>\n",
       "      <td>不羁美少年 À cause d'un garçon</td>\n",
       "      <td>我喜欢女主角，希腊雕塑一般的面庞与身体。（在一部同志题材的电影中迷恋女主角好像很不应该吧）</td>\n",
       "      <td>2</td>\n",
       "    </tr>\n",
       "    <tr>\n",
       "      <th>261495</th>\n",
       "      <td>260148</td>\n",
       "      <td>https://movie.douban.com/subject/1441763/</td>\n",
       "      <td>不羁美少年 À cause d'un garçon</td>\n",
       "      <td>冲着颜值还可以看下去</td>\n",
       "      <td>3</td>\n",
       "    </tr>\n",
       "    <tr>\n",
       "      <th>261496</th>\n",
       "      <td>260149</td>\n",
       "      <td>https://movie.douban.com/subject/1441763/</td>\n",
       "      <td>不羁美少年 À cause d'un garçon</td>\n",
       "      <td>除了主人公都不帅，女主挺漂亮之外……唯一的感觉就是他男朋友真让人恶心</td>\n",
       "      <td>3</td>\n",
       "    </tr>\n",
       "  </tbody>\n",
       "</table>\n",
       "<p>261497 rows × 5 columns</p>\n",
       "</div>"
      ],
      "text/plain": [
       "            id                                        link  \\\n",
       "0            1  https://movie.douban.com/subject/26363254/   \n",
       "1            2  https://movie.douban.com/subject/26363254/   \n",
       "2            3  https://movie.douban.com/subject/26363254/   \n",
       "3            4  https://movie.douban.com/subject/26363254/   \n",
       "4            5  https://movie.douban.com/subject/26363254/   \n",
       "5            6  https://movie.douban.com/subject/26363254/   \n",
       "6            7  https://movie.douban.com/subject/26363254/   \n",
       "7            8  https://movie.douban.com/subject/26363254/   \n",
       "8            9  https://movie.douban.com/subject/26363254/   \n",
       "9           10  https://movie.douban.com/subject/26363254/   \n",
       "10          11  https://movie.douban.com/subject/26363254/   \n",
       "11          12  https://movie.douban.com/subject/26363254/   \n",
       "12          13  https://movie.douban.com/subject/26363254/   \n",
       "13          14  https://movie.douban.com/subject/26363254/   \n",
       "14          15  https://movie.douban.com/subject/26363254/   \n",
       "15          16  https://movie.douban.com/subject/26363254/   \n",
       "16          17  https://movie.douban.com/subject/26363254/   \n",
       "17          18  https://movie.douban.com/subject/26363254/   \n",
       "18          19  https://movie.douban.com/subject/26363254/   \n",
       "19          20  https://movie.douban.com/subject/26363254/   \n",
       "20          21  https://movie.douban.com/subject/26363254/   \n",
       "21          22  https://movie.douban.com/subject/26363254/   \n",
       "22          23  https://movie.douban.com/subject/26363254/   \n",
       "23          24  https://movie.douban.com/subject/26363254/   \n",
       "24          25  https://movie.douban.com/subject/26363254/   \n",
       "25          26  https://movie.douban.com/subject/26363254/   \n",
       "26          27  https://movie.douban.com/subject/26363254/   \n",
       "27          28  https://movie.douban.com/subject/26363254/   \n",
       "28          29  https://movie.douban.com/subject/26363254/   \n",
       "29          30  https://movie.douban.com/subject/26363254/   \n",
       "...        ...                                         ...   \n",
       "261467  260120   https://movie.douban.com/subject/1441763/   \n",
       "261468  260121   https://movie.douban.com/subject/1441763/   \n",
       "261469  260122   https://movie.douban.com/subject/1441763/   \n",
       "261470  260123   https://movie.douban.com/subject/1441763/   \n",
       "261471  260124   https://movie.douban.com/subject/1441763/   \n",
       "261472  260125   https://movie.douban.com/subject/1441763/   \n",
       "261473  260126   https://movie.douban.com/subject/1441763/   \n",
       "261474  260127   https://movie.douban.com/subject/1441763/   \n",
       "261475  260128   https://movie.douban.com/subject/1441763/   \n",
       "261476  260129   https://movie.douban.com/subject/1441763/   \n",
       "261477  260130   https://movie.douban.com/subject/1441763/   \n",
       "261478  260131   https://movie.douban.com/subject/1441763/   \n",
       "261479  260132   https://movie.douban.com/subject/1441763/   \n",
       "261480  260133   https://movie.douban.com/subject/1441763/   \n",
       "261481  260134   https://movie.douban.com/subject/1441763/   \n",
       "261482  260135   https://movie.douban.com/subject/1441763/   \n",
       "261483  260136   https://movie.douban.com/subject/1441763/   \n",
       "261484  260137   https://movie.douban.com/subject/1441763/   \n",
       "261485  260138   https://movie.douban.com/subject/1441763/   \n",
       "261486  260139   https://movie.douban.com/subject/1441763/   \n",
       "261487  260140   https://movie.douban.com/subject/1441763/   \n",
       "261488  260141   https://movie.douban.com/subject/1441763/   \n",
       "261489  260142   https://movie.douban.com/subject/1441763/   \n",
       "261490  260143   https://movie.douban.com/subject/1441763/   \n",
       "261491  260144   https://movie.douban.com/subject/1441763/   \n",
       "261492  260145   https://movie.douban.com/subject/1441763/   \n",
       "261493  260146   https://movie.douban.com/subject/1441763/   \n",
       "261494  260147   https://movie.douban.com/subject/1441763/   \n",
       "261495  260148   https://movie.douban.com/subject/1441763/   \n",
       "261496  260149   https://movie.douban.com/subject/1441763/   \n",
       "\n",
       "                             name  \\\n",
       "0                             战狼2   \n",
       "1                             战狼2   \n",
       "2                             战狼2   \n",
       "3                             战狼2   \n",
       "4                             战狼2   \n",
       "5                             战狼2   \n",
       "6                             战狼2   \n",
       "7                             战狼2   \n",
       "8                             战狼2   \n",
       "9                             战狼2   \n",
       "10                            战狼2   \n",
       "11                            战狼2   \n",
       "12                            战狼2   \n",
       "13                            战狼2   \n",
       "14                            战狼2   \n",
       "15                            战狼2   \n",
       "16                            战狼2   \n",
       "17                            战狼2   \n",
       "18                            战狼2   \n",
       "19                            战狼2   \n",
       "20                            战狼2   \n",
       "21                            战狼2   \n",
       "22                            战狼2   \n",
       "23                            战狼2   \n",
       "24                            战狼2   \n",
       "25                            战狼2   \n",
       "26                            战狼2   \n",
       "27                            战狼2   \n",
       "28                            战狼2   \n",
       "29                            战狼2   \n",
       "...                           ...   \n",
       "261467  不羁美少年 À cause d'un garçon   \n",
       "261468  不羁美少年 À cause d'un garçon   \n",
       "261469  不羁美少年 À cause d'un garçon   \n",
       "261470  不羁美少年 À cause d'un garçon   \n",
       "261471  不羁美少年 À cause d'un garçon   \n",
       "261472  不羁美少年 À cause d'un garçon   \n",
       "261473  不羁美少年 À cause d'un garçon   \n",
       "261474  不羁美少年 À cause d'un garçon   \n",
       "261475  不羁美少年 À cause d'un garçon   \n",
       "261476  不羁美少年 À cause d'un garçon   \n",
       "261477  不羁美少年 À cause d'un garçon   \n",
       "261478  不羁美少年 À cause d'un garçon   \n",
       "261479  不羁美少年 À cause d'un garçon   \n",
       "261480  不羁美少年 À cause d'un garçon   \n",
       "261481  不羁美少年 À cause d'un garçon   \n",
       "261482  不羁美少年 À cause d'un garçon   \n",
       "261483  不羁美少年 À cause d'un garçon   \n",
       "261484  不羁美少年 À cause d'un garçon   \n",
       "261485  不羁美少年 À cause d'un garçon   \n",
       "261486  不羁美少年 À cause d'un garçon   \n",
       "261487  不羁美少年 À cause d'un garçon   \n",
       "261488  不羁美少年 À cause d'un garçon   \n",
       "261489  不羁美少年 À cause d'un garçon   \n",
       "261490  不羁美少年 À cause d'un garçon   \n",
       "261491  不羁美少年 À cause d'un garçon   \n",
       "261492  不羁美少年 À cause d'un garçon   \n",
       "261493  不羁美少年 À cause d'un garçon   \n",
       "261494  不羁美少年 À cause d'un garçon   \n",
       "261495  不羁美少年 À cause d'un garçon   \n",
       "261496  不羁美少年 À cause d'un garçon   \n",
       "\n",
       "                                                  comment star  \n",
       "0                                      吴京意淫到了脑残的地步，看了恶心想吐    1  \n",
       "1       首映礼看的。太恐怖了这个电影，不讲道理的，完全就是吴京在实现他这个小粉红的英雄梦。各种装备轮...    2  \n",
       "2       吴京的炒作水平不输冯小刚，但小刚至少不会用主旋律来炒作…吴京让人看了不舒服，为了主旋律而主旋...    2  \n",
       "3                           凭良心说，好看到不像《战狼1》的续集，完虐《湄公河行动》。    4  \n",
       "4                                                    中二得很    1  \n",
       "5                             “犯我中华者，虽远必诛”，吴京比这句话还要意淫一百倍。    1  \n",
       "6                                       脑子是个好东西，希望编剧们都能有。    2  \n",
       "7       三星半，实打实的7分。第一集在爱国主旋律内部做着各种置换与较劲，但第二集才真正显露吴京的野心...    4  \n",
       "8       开篇长镜头惊险大气引人入胜 结合了水平不俗的快剪下实打实的真刀真枪 让人不禁热血沸腾 特别弹...    4  \n",
       "9       15/100吴京的冷峰在这部里即像成龙，又像杰森斯坦森，但体制外的同类型电影，主角总是代表个...    1  \n",
       "10                                  犯我中华者虽远必诛，是有多无脑才信这句话。    1  \n",
       "11                这部戏让人看的热血沸腾，对吴京路转粉，最后的彩蛋，让我们没有理由不期待下一部。    4  \n",
       "12                                            假嗨，特别恶心的电影。    1  \n",
       "13                            有几处情节设置过于尴尬，彰显国家自豪感的部分稍显突兀。    2  \n",
       "14      就是一部爽片，打戏挺燃，但是故事一般。达康书记不合适这个角色，赵东来倒是很合适。张瀚太太太违...    2  \n",
       "15      赵东来：达康书记，我们接到在非洲卧底的冷锋报告，丁义珍现在非洲，我们请求抓捕。李达康：东来，...    5  \n",
       "16                                    下一部拍喜剧吧，整个片子真感觉挺搞笑的    2  \n",
       "17                                 《战狼2》里吴京这么能打，他打得过徐晓冬么？    3  \n",
       "18           心往一处想，劲往一处使，就能实现我们的梦想。看吧，比第一部好太多了。谢谢美队的动作指导。    3  \n",
       "19                                            这都能火。是我没见识！    2  \n",
       "20      开头的水下长对决戏可算华语电影的顶尖存在；驱逐舰、导弹和坦克在商业片里这么狂用也是了得；镜头...    4  \n",
       "21      很用心啊吴京导演，小看你了，确实在导演上下功夫了拉片子了，知道借鉴是好的。至于大家比较反感的...    4  \n",
       "22                                 犯我中华者虽远必诛，这句话一直在我脑子里回响    4  \n",
       "23                          片头海里那场动作戏看完就呆不下去了，太假太做作，提前离场。    1  \n",
       "24                           好看，这部戏让人看的热血沸腾，打戏挺燃的，吴京演技棒呆了    4  \n",
       "25      符合“有钱了续集反而拍更差”这一放之四海而皆准的规律，场面越做越大，然而伴随着各种动作场面和...    2  \n",
       "26      说喜欢这部片子的人不是装傻就是真傻，要不是真的没有别的可看肯定是不会选这部的，直男癌到令人发...    2  \n",
       "27      整部电影延续1的风格，热血。场面比1来的要大，打戏动作不错，吴京挺适合演军人的，电影之前的中...    4  \n",
       "28                    目瞪狗呆！太瘠薄好看了！中国人牛b就是硬道理！隔壁建军大爷都没你们爱国    1  \n",
       "29      《战狼2》的动作场景和战斗装备全线升级，热血的打斗动作从头打到尾。《战狼2》游走在电影审查红...    4  \n",
       "...                                                   ...  ...  \n",
       "261467    bg戏略出戏 结尾坑爹 不过男主真的有一双漂亮可爱的大眼睛啊太萌 但是我觉得他为人略让人受不了    3  \n",
       "261468                                                还行。    3  \n",
       "261469                                        无聊= =拍摄手法GJ    3  \n",
       "261470                                       小男主游泳游得真心挺快~    3  \n",
       "261471  Après avoir vu ce film à 2 heures 10, moi, je ...    4  \n",
       "261472                   第一個吻好美。不卑不亢。整體感覺良好。這是比較現實和年輕的故事。    3  \n",
       "261473                                       文森忧郁的眼神叫人心疼。    4  \n",
       "261474                              还不错，最后结尾互相追逐的那个恶寒啊...    4  \n",
       "261475                             百度云居然。。。把我存的这片子禁了？！哈？！    3  \n",
       "261476  话说法国出帅哥，法国人喜欢浪漫，冲着片名我点犹豫都没有的看了，少年美不美真不好说，但是周围人...    3  \n",
       "261477                   第一個吻好美。不卑不亢。整體感覺良好。這是比較現實和年輕的故事。    3  \n",
       "261478                                       文森忧郁的眼神叫人心疼。    4  \n",
       "261479                              还不错，最后结尾互相追逐的那个恶寒啊...    4  \n",
       "261480                             百度云居然。。。把我存的这片子禁了？！哈？！    3  \n",
       "261481  话说法国出帅哥，法国人喜欢浪漫，冲着片名我点犹豫都没有的看了，少年美不美真不好说，但是周围人...    3  \n",
       "261482                                    生活、爱情、亲情、友情、选择。    3  \n",
       "261483                                                一般般    3  \n",
       "261484                                       电影一般,可以随便看看.    3  \n",
       "261485                                       我到底是怎么看完它的..    1  \n",
       "261486                               成长的烦恼，美型的少年，难以看清的真相。    4  \n",
       "261487                                             轻松喜剧电影    4  \n",
       "261488                                     温暖的剧情,温暖的结局...    3  \n",
       "261489               主角们都很好看 又是一个碧悲情的小女主角\\r\\n又是一段关于十七岁的故事    5  \n",
       "261490                                一切都是爲了顏！！！= =||||||    3  \n",
       "261491       大概看了\\r\\n总的来说还是不错 其实内心是十分期待男主和他的好友发生点什么的 哎。。。    3  \n",
       "261492                     内容只能说一般。。女性角色怎么都这么悲催啊！！不过男猪脚很帅    3  \n",
       "261493                           翘了三天班就窝在家里看小基片惹（手动拜拜.gif    3  \n",
       "261494      我喜欢女主角，希腊雕塑一般的面庞与身体。（在一部同志题材的电影中迷恋女主角好像很不应该吧）    2  \n",
       "261495                                         冲着颜值还可以看下去    3  \n",
       "261496                 除了主人公都不帅，女主挺漂亮之外……唯一的感觉就是他男朋友真让人恶心    3  \n",
       "\n",
       "[261497 rows x 5 columns]"
      ]
     },
     "execution_count": 9,
     "metadata": {},
     "output_type": "execute_result"
    }
   ],
   "source": [
    "comments"
   ]
  },
  {
   "cell_type": "code",
   "execution_count": 25,
   "metadata": {},
   "outputs": [
    {
     "data": {
      "text/plain": [
       "261497"
      ]
     },
     "execution_count": 25,
     "metadata": {},
     "output_type": "execute_result"
    }
   ],
   "source": [
    "len(comments)"
   ]
  },
  {
   "cell_type": "code",
   "execution_count": 26,
   "metadata": {},
   "outputs": [
    {
     "name": "stdout",
     "output_type": "stream",
     "text": [
      "4       43002\n",
      "4       40806\n",
      "3       33910\n",
      "5       31947\n",
      "3       31764\n",
      "5       27368\n",
      "2       14299\n",
      "2       13837\n",
      "1       12308\n",
      "1       12255\n",
      "star        1\n",
      "Name: star, dtype: int64\n"
     ]
    }
   ],
   "source": [
    "Survived_freq = comments.star.value_counts()\n",
    "print(Survived_freq)"
   ]
  },
  {
   "cell_type": "code",
   "execution_count": 63,
   "metadata": {},
   "outputs": [
    {
     "data": {
      "text/plain": [
       "str"
      ]
     },
     "execution_count": 63,
     "metadata": {},
     "output_type": "execute_result"
    }
   ],
   "source": [
    "a = comments.star[9]\n",
    "type(a)"
   ]
  },
  {
   "cell_type": "code",
   "execution_count": 64,
   "metadata": {},
   "outputs": [
    {
     "data": {
      "text/plain": [
       "str"
      ]
     },
     "execution_count": 64,
     "metadata": {},
     "output_type": "execute_result"
    }
   ],
   "source": [
    "b = comments.star[10]\n",
    "type(b)"
   ]
  },
  {
   "cell_type": "markdown",
   "metadata": {},
   "source": [
    "## 分词"
   ]
  },
  {
   "cell_type": "code",
   "execution_count": 11,
   "metadata": {
    "collapsed": true
   },
   "outputs": [],
   "source": [
    "content_X = comments.comment.dropna().values.tolist()"
   ]
  },
  {
   "cell_type": "code",
   "execution_count": 49,
   "metadata": {},
   "outputs": [
    {
     "data": {
      "text/plain": [
       "['吴京意淫到了脑残的地步，看了恶心想吐',\n",
       " '首映礼看的。太恐怖了这个电影，不讲道理的，完全就是吴京在实现他这个小粉红的英雄梦。各种装备轮番上场，视物理逻辑于不顾，不得不说有钱真好，随意胡闹',\n",
       " '吴京的炒作水平不输冯小刚，但小刚至少不会用主旋律来炒作…吴京让人看了不舒服，为了主旋律而主旋律，为了煽情而煽情，让人觉得他是个大做作、大谎言家。（7.29更新）片子整体不如湄公河行动，1.整体不够流畅，编剧有毒，台词尴尬；2.刻意做作的主旋律煽情显得如此不合时宜而又多余。',\n",
       " '凭良心说，好看到不像《战狼1》的续集，完虐《湄公河行动》。',\n",
       " '中二得很']"
      ]
     },
     "execution_count": 49,
     "metadata": {},
     "output_type": "execute_result"
    }
   ],
   "source": [
    "content_X[:5]"
   ]
  },
  {
   "cell_type": "code",
   "execution_count": 12,
   "metadata": {
    "collapsed": true
   },
   "outputs": [],
   "source": [
    "model_path = 'C:\\\\Users\\\\672\\\\Desktop\\\\ltp_data_v3.4.0'\n",
    "cws_model_path = os.path.join(model_path, 'cws.model')"
   ]
  },
  {
   "cell_type": "code",
   "execution_count": 13,
   "metadata": {
    "collapsed": true
   },
   "outputs": [],
   "source": [
    "segmentor = Segmentor()\n",
    "segmentor.load(cws_model_path)"
   ]
  },
  {
   "cell_type": "code",
   "execution_count": 41,
   "metadata": {},
   "outputs": [
    {
     "name": "stderr",
     "output_type": "stream",
     "text": [
      "100%|████████████████████████████████████████████████████████████████████████| 261495/261495 [01:55<00:00, 2270.90it/s]\n"
     ]
    }
   ],
   "source": [
    "# segment=[]\n",
    "# for line in tqdm(content_X):\n",
    "#     try:\n",
    "#         segs = segmentor.segment(line) # jiaba.lcut()\n",
    "#         for seg in segs:\n",
    "#             if len(seg)>1 and seg!='\\r\\n':\n",
    "#                  segment.append(seg)\n",
    "#     except:\n",
    "#         print(line)\n",
    "#         continue"
   ]
  },
  {
   "cell_type": "code",
   "execution_count": 15,
   "metadata": {},
   "outputs": [
    {
     "name": "stderr",
     "output_type": "stream",
     "text": [
      "100%|████████████████████████████████████████████████████████████████████████| 261495/261495 [01:43<00:00, 2525.91it/s]\n"
     ]
    },
    {
     "data": {
      "text/plain": [
       "261495"
      ]
     },
     "execution_count": 15,
     "metadata": {},
     "output_type": "execute_result"
    }
   ],
   "source": [
    "table_cut = []\n",
    "mask = []\n",
    "for sentence in tqdm(content_X):\n",
    "    if not isinstance(sentence, str):\n",
    "        mask.append(False)\n",
    "        continue\n",
    "    mask.append(True)\n",
    "    sentence = ''.join(re.findall(r'\\w+', sentence))\n",
    "    table_cut.append(' '.join(segmentor.segment(sentence)))\n",
    "len(table_cut)"
   ]
  },
  {
   "cell_type": "code",
   "execution_count": 55,
   "metadata": {},
   "outputs": [
    {
     "data": {
      "text/plain": [
       "['吴京意 淫 到 了 脑残 的 地步 看 了 恶心 想吐',\n",
       " '首映礼 看 的 太 恐怖 了 这个 电影 不 讲 道理 的 完全 就是 吴 京 在 实现 他 这个 小 粉红 的 英雄 梦 各种 装备 轮番 上场 视 物理 逻辑 于 不顾 不得不 说 有 钱 真 好 随意 胡闹',\n",
       " '吴 京 的 炒作 水平 不 输 冯 小刚 但 小刚 至少 不 会 用 主旋律 来 炒作 吴 京 让 人 看 了 不 舒服 为了 主旋律 而 主旋律 为了 煽情 而 煽情 让 人 觉得 他 是 个 大 做 作 大谎言 家 729 更新 片子 整体 不如 湄公河 行动 1 整体 不 够 流畅 编剧 有毒 台词 尴尬 2 刻意 做作 的 主旋律 煽情 显得 如此 不合时宜 而 又 多余',\n",
       " '凭 良心 说 好 看到 不 像 战狼1 的 续集 完虐 湄公河 行动',\n",
       " '中 二 得 很']"
      ]
     },
     "execution_count": 55,
     "metadata": {},
     "output_type": "execute_result"
    }
   ],
   "source": [
    "table_cut[:5]"
   ]
  },
  {
   "cell_type": "markdown",
   "metadata": {},
   "source": [
    "## 去停用词"
   ]
  },
  {
   "cell_type": "code",
   "execution_count": 16,
   "metadata": {
    "collapsed": true
   },
   "outputs": [],
   "source": [
    "table_cut_0 = pd.DataFrame({'segment':table_cut})"
   ]
  },
  {
   "cell_type": "code",
   "execution_count": 61,
   "metadata": {},
   "outputs": [
    {
     "data": {
      "text/html": [
       "<div>\n",
       "<style scoped>\n",
       "    .dataframe tbody tr th:only-of-type {\n",
       "        vertical-align: middle;\n",
       "    }\n",
       "\n",
       "    .dataframe tbody tr th {\n",
       "        vertical-align: top;\n",
       "    }\n",
       "\n",
       "    .dataframe thead th {\n",
       "        text-align: right;\n",
       "    }\n",
       "</style>\n",
       "<table border=\"1\" class=\"dataframe\">\n",
       "  <thead>\n",
       "    <tr style=\"text-align: right;\">\n",
       "      <th></th>\n",
       "      <th>segment</th>\n",
       "    </tr>\n",
       "  </thead>\n",
       "  <tbody>\n",
       "    <tr>\n",
       "      <th>0</th>\n",
       "      <td>吴京意 淫 到 了 脑残 的 地步 看 了 恶心 想吐</td>\n",
       "    </tr>\n",
       "    <tr>\n",
       "      <th>1</th>\n",
       "      <td>首映礼 看 的 太 恐怖 了 这个 电影 不 讲 道理 的 完全 就是 吴 京 在 实现 他...</td>\n",
       "    </tr>\n",
       "    <tr>\n",
       "      <th>2</th>\n",
       "      <td>吴 京 的 炒作 水平 不 输 冯 小刚 但 小刚 至少 不 会 用 主旋律 来 炒作 吴 ...</td>\n",
       "    </tr>\n",
       "    <tr>\n",
       "      <th>3</th>\n",
       "      <td>凭 良心 说 好 看到 不 像 战狼1 的 续集 完虐 湄公河 行动</td>\n",
       "    </tr>\n",
       "    <tr>\n",
       "      <th>4</th>\n",
       "      <td>中 二 得 很</td>\n",
       "    </tr>\n",
       "  </tbody>\n",
       "</table>\n",
       "</div>"
      ],
      "text/plain": [
       "                                             segment\n",
       "0                        吴京意 淫 到 了 脑残 的 地步 看 了 恶心 想吐\n",
       "1  首映礼 看 的 太 恐怖 了 这个 电影 不 讲 道理 的 完全 就是 吴 京 在 实现 他...\n",
       "2  吴 京 的 炒作 水平 不 输 冯 小刚 但 小刚 至少 不 会 用 主旋律 来 炒作 吴 ...\n",
       "3                 凭 良心 说 好 看到 不 像 战狼1 的 续集 完虐 湄公河 行动\n",
       "4                                            中 二 得 很"
      ]
     },
     "execution_count": 61,
     "metadata": {},
     "output_type": "execute_result"
    }
   ],
   "source": [
    "table_cut_0.head()"
   ]
  },
  {
   "cell_type": "code",
   "execution_count": 18,
   "metadata": {
    "collapsed": true
   },
   "outputs": [],
   "source": [
    " stopwords = pd.read_csv(\"./stopwords.txt\",index_col=False,quoting=3,sep=\"\\t\",names=['stopword'],encoding='utf-8') "
   ]
  },
  {
   "cell_type": "code",
   "execution_count": 19,
   "metadata": {
    "collapsed": true
   },
   "outputs": [],
   "source": [
    "table_cut_1=table_cut_0[~table_cut_0.segment.isin(stopwords.stopword)]"
   ]
  },
  {
   "cell_type": "code",
   "execution_count": 20,
   "metadata": {},
   "outputs": [
    {
     "data": {
      "text/plain": [
       "(261495, 260173)"
      ]
     },
     "execution_count": 20,
     "metadata": {},
     "output_type": "execute_result"
    }
   ],
   "source": [
    "len(table_cut_0),len(table_cut_1)"
   ]
  },
  {
   "cell_type": "code",
   "execution_count": 38,
   "metadata": {
    "collapsed": true
   },
   "outputs": [],
   "source": [
    "def getWordVecs(wordList):\n",
    "    vecs = []\n",
    "    for word in wordList:\n",
    "        try:\n",
    "            vecs.append(cn_model[word])\n",
    "        except KeyError:\n",
    "            continue\n",
    "    # vecs = np.concatenate(vecs)\n",
    "    return np.array(vecs, dtype = 'float')"
   ]
  },
  {
   "cell_type": "code",
   "execution_count": 35,
   "metadata": {
    "collapsed": true
   },
   "outputs": [],
   "source": [
    "def buildVecs(filename):\n",
    "    posInput = []\n",
    "    with open(filename, \"rb\") as txtfile:\n",
    "        # print txtfile\n",
    "        for lines in txtfile:\n",
    "            lines = lines.split('\\n ')\n",
    "            for line in lines:            \n",
    "                line = jieba.cut(line)\n",
    "                resultList = getWordVecs(line)\n",
    "                # for each sentence, the mean vector of all its vectors is used to represent this sentence\n",
    "                if len(resultList) != 0:\n",
    "                    resultArray = sum(np.array(resultList))/len(resultList)\n",
    "                    posInput.append(resultArray)"
   ]
  },
  {
   "cell_type": "code",
   "execution_count": 33,
   "metadata": {},
   "outputs": [
    {
     "name": "stderr",
     "output_type": "stream",
     "text": [
      "C:\\Users\\672\\.conda\\envs\\tensorflow\\lib\\site-packages\\smart_open\\smart_open_lib.py:398: UserWarning: This function is deprecated, use smart_open.open instead. See the migration notes for details: https://github.com/RaRe-Technologies/smart_open/blob/master/README.rst#migrating-to-the-new-open-function\n",
      "  'See the migration notes for details: %s' % _MIGRATION_NOTES_URL\n"
     ]
    }
   ],
   "source": [
    "cn_model = KeyedVectors.load_word2vec_format('./chinese_sentiment-master/sgns.zhihu.bigram', binary=False)"
   ]
  },
  {
   "cell_type": "code",
   "execution_count": 157,
   "metadata": {},
   "outputs": [
    {
     "name": "stderr",
     "output_type": "stream",
     "text": [
      "100%|█████████████████████████████████████████████████████████████████████████████████| 50/50 [00:00<00:00, 781.70it/s]\n"
     ]
    }
   ],
   "source": [
    "posInput = []\n",
    "for line in tqdm(table_cut_1.segment[:50]):            \n",
    "    resultList = getWordVecs(line)\n",
    "    if len(resultList) != 0:\n",
    "        resultArray = sum(np.array(resultList))/len(resultList)\n",
    "        posInput.append(resultArray)"
   ]
  },
  {
   "cell_type": "code",
   "execution_count": 57,
   "metadata": {},
   "outputs": [
    {
     "data": {
      "text/plain": [
       "array([ 0.03323672,  0.07659372, -0.22908188,  0.15992821, -0.15013271,\n",
       "       -0.28016315, -0.23964886,  0.0105634 ,  0.05356391, -0.14371899,\n",
       "       -0.24426919,  0.34718954,  0.05880805,  0.049607  ,  0.24275369,\n",
       "       -0.55603327,  0.07609777,  0.05125983,  0.17479677, -0.08144276,\n",
       "        0.20585264,  0.14045714,  0.01676063, -0.41771758, -0.20670643,\n",
       "        0.37567842, -0.09244092, -0.32330343,  0.15953442,  0.27752497,\n",
       "       -0.10727489, -0.00221989,  0.0730382 ,  0.13129021,  0.16399334,\n",
       "        0.01446586,  0.28158207,  0.41305294, -0.04603875,  0.10524286,\n",
       "       -0.25630337, -0.04626588, -0.185317  ,  0.22887774,  0.18249705,\n",
       "        0.12801188, -0.12251343,  0.12248529,  0.10352026,  0.04089618,\n",
       "       -0.08989192, -0.18186422, -0.14976605,  0.21961005, -0.21362955,\n",
       "       -0.19295132, -0.20339512,  0.31055332,  0.14497954, -0.17854002,\n",
       "        0.08379952,  0.37250842, -0.24160069, -0.18440032,  0.10504488,\n",
       "        0.03636578,  0.35068785,  0.27440283,  0.09784431,  0.15373549,\n",
       "       -0.02982955,  0.23821038, -0.15455048, -0.2887196 , -0.30881092,\n",
       "       -0.10422931, -0.0079994 , -0.01547983, -0.19789731, -0.18020635,\n",
       "        0.23689082, -0.05003658, -0.32180743,  0.116593  , -0.05553643,\n",
       "       -0.124821  , -0.10058178, -0.06745191,  0.00957508, -0.4562654 ,\n",
       "        0.173527  ,  0.24395968,  0.1507704 , -0.13252146,  0.43376991,\n",
       "        0.01645229, -0.04587431,  0.03240371,  0.04035009,  0.06757557,\n",
       "        0.07162978,  0.33474801,  0.11672921, -0.01082309, -0.2695396 ,\n",
       "        0.00446149, -0.03385202, -0.15043217, -0.12402831,  0.15717077,\n",
       "        0.02543785,  0.30719237, -0.0120962 ,  0.24447877, -0.19440283,\n",
       "        0.08488988, -0.00647647, -0.14185726, -0.35235666, -0.04018912,\n",
       "       -0.13200668, -0.22252029, -0.07295394, -0.31199825, -0.11487608,\n",
       "       -0.07085523, -0.01130311, -0.36193285,  0.13810223, -0.13372772,\n",
       "        0.38603795, -0.13946302, -0.13466577, -0.10050611,  0.07129883,\n",
       "       -0.0997692 ,  0.03025071,  0.1771359 ,  0.24396871,  0.15350548,\n",
       "        0.07564759,  0.26791352,  0.03840728, -0.03574029, -0.23477757,\n",
       "        0.0629128 ,  0.03405959,  0.28139295,  0.41893977,  0.33438421,\n",
       "        0.07545795,  0.03715957, -0.05156331,  0.0266666 ,  0.3658816 ,\n",
       "        0.14499866, -0.15156369,  0.04456603,  0.14491218, -0.19595769,\n",
       "        0.08401643,  0.06550574, -0.05284108,  0.03523735,  0.24979149,\n",
       "       -0.17259586, -0.14767968, -0.06524634,  0.29251285,  0.27776563,\n",
       "       -0.21291015,  0.010307  , -0.01324188,  0.20057455, -0.17507977,\n",
       "        0.07192985,  0.04896096,  0.22641494, -0.1323843 , -0.02000095,\n",
       "       -0.11210769, -0.08198654,  0.13237703,  0.24634785,  0.06192337,\n",
       "        0.14087649, -0.06709006, -0.04134871, -0.06476529,  0.33891775,\n",
       "       -0.76898035,  0.17885751, -0.3625357 , -0.40687703,  0.12749014,\n",
       "       -0.15929114,  0.1560152 ,  0.10442581, -0.17925383,  0.07590615,\n",
       "       -0.00333468, -0.07003072,  0.11545222, -0.22184351,  0.1362398 ,\n",
       "        0.0156811 ,  0.04855665, -0.18069099,  0.15471392, -0.00108251,\n",
       "       -0.01829028,  0.30751381, -0.2176506 , -0.01778702,  0.18887251,\n",
       "       -0.11328613,  0.21640837, -0.07655338,  0.21746301,  0.16782768,\n",
       "        0.06763463,  0.23835854,  0.10369997, -0.03231905,  0.28400701,\n",
       "       -0.23165357, -0.03179354,  0.39852974, -0.07300754, -0.1901702 ,\n",
       "       -0.0410086 , -0.07375567, -0.06016135,  0.04193821, -0.01141334,\n",
       "       -0.16240037, -0.01807534,  0.01807751,  0.1376292 , -0.00293117,\n",
       "        0.04292468, -0.05321598,  0.34686042, -0.00651713,  0.21732843,\n",
       "       -0.40765175,  0.05348686, -0.11519811,  0.36491639,  0.24985814,\n",
       "        0.27984682, -0.193378  ,  0.09710494,  0.21153911,  0.03795991,\n",
       "        0.01292554,  0.04820922, -0.03410202,  0.09345412,  0.25268643,\n",
       "       -0.1089678 ,  0.18181697, -0.11716506, -0.18489883, -0.09215429,\n",
       "       -0.2396044 , -0.15286568, -0.20895385,  0.04894499, -0.38476068,\n",
       "       -0.15032848, -0.21682108, -0.15142717,  0.25431891,  0.18226268,\n",
       "        0.29852952,  0.08389186,  0.01847479,  0.3027678 , -0.03872994,\n",
       "        0.07766014,  0.03199075,  0.23414463, -0.04556682, -0.14355839,\n",
       "        0.29145811,  0.03068488, -0.08465162,  0.2035166 ,  0.02687029,\n",
       "       -0.07225701,  0.01705248, -0.08083437, -0.01116877, -0.01722026,\n",
       "       -0.05712074, -0.01202186,  0.0548705 ,  0.09271856, -0.27019792])"
      ]
     },
     "execution_count": 57,
     "metadata": {},
     "output_type": "execute_result"
    }
   ],
   "source": [
    "posInput[1]"
   ]
  },
  {
   "cell_type": "code",
   "execution_count": null,
   "metadata": {
    "collapsed": true
   },
   "outputs": [],
   "source": []
  },
  {
   "cell_type": "code",
   "execution_count": 158,
   "metadata": {
    "collapsed": true
   },
   "outputs": [],
   "source": [
    "posiInput = posInput\n",
    "# negeInput = posInput"
   ]
  },
  {
   "cell_type": "code",
   "execution_count": 49,
   "metadata": {
    "collapsed": true
   },
   "outputs": [],
   "source": [
    "# y = np.concatenate((np.ones(len(posiInput)), np.zeros(len(negeInput))))"
   ]
  },
  {
   "cell_type": "code",
   "execution_count": 54,
   "metadata": {},
   "outputs": [
    {
     "data": {
      "text/plain": [
       "array([1., 1., 1., 1., 1., 1., 1., 1., 1., 1., 1., 1., 1., 1., 1., 1., 1.,\n",
       "       1., 1., 1., 1., 1., 1., 1., 1., 1., 1., 1., 1., 1., 1., 1., 1., 1.,\n",
       "       1., 1., 1., 1., 1., 1., 1., 1., 1., 1., 1., 1., 1., 1., 1., 1., 0.,\n",
       "       0., 0., 0., 0., 0., 0., 0., 0., 0., 0., 0., 0., 0., 0., 0., 0., 0.,\n",
       "       0., 0., 0., 0., 0., 0., 0., 0., 0., 0., 0., 0., 0., 0., 0., 0., 0.,\n",
       "       0., 0., 0., 0., 0., 0., 0., 0., 0., 0., 0., 0., 0., 0., 0.])"
      ]
     },
     "execution_count": 54,
     "metadata": {},
     "output_type": "execute_result"
    }
   ],
   "source": [
    "# y"
   ]
  },
  {
   "cell_type": "code",
   "execution_count": 159,
   "metadata": {
    "collapsed": true
   },
   "outputs": [],
   "source": [
    "X = posInput[:]\n",
    "for neg in negInput:\n",
    "    X.append(neg)\n",
    "X = np.array(X)"
   ]
  },
  {
   "cell_type": "code",
   "execution_count": 160,
   "metadata": {},
   "outputs": [
    {
     "data": {
      "text/plain": [
       "array([[-0.02121247,  0.30451006, -0.17747165, ..., -0.00193494,\n",
       "        -0.15720882, -0.350485  ],\n",
       "       [ 0.03323672,  0.07659372, -0.22908188, ...,  0.0548705 ,\n",
       "         0.09271856, -0.27019792],\n",
       "       [ 0.06019704,  0.10150806, -0.17916154, ..., -0.00169732,\n",
       "         0.11349135, -0.20233715],\n",
       "       ...,\n",
       "       [ 0.05955349, -0.13202932,  0.06808319, ..., -0.02109149,\n",
       "         0.14557695, -0.17230568],\n",
       "       [ 0.11066596,  0.03213573, -0.21363617, ...,  0.02164995,\n",
       "         0.03919675, -0.12997216],\n",
       "       [ 0.20960426,  0.124947  , -0.12515197, ..., -0.0185439 ,\n",
       "        -0.00282341, -0.36609331]])"
      ]
     },
     "execution_count": 160,
     "metadata": {},
     "output_type": "execute_result"
    }
   ],
   "source": [
    "X"
   ]
  },
  {
   "cell_type": "code",
   "execution_count": 161,
   "metadata": {},
   "outputs": [
    {
     "data": {
      "text/plain": [
       "(100, 300)"
      ]
     },
     "execution_count": 161,
     "metadata": {},
     "output_type": "execute_result"
    }
   ],
   "source": [
    "X.shape"
   ]
  },
  {
   "cell_type": "code",
   "execution_count": 162,
   "metadata": {
    "collapsed": true
   },
   "outputs": [],
   "source": [
    "y = comments['star'][:100]"
   ]
  },
  {
   "cell_type": "code",
   "execution_count": 151,
   "metadata": {},
   "outputs": [
    {
     "data": {
      "text/plain": [
       "50"
      ]
     },
     "execution_count": 151,
     "metadata": {},
     "output_type": "execute_result"
    }
   ],
   "source": [
    "len(y)"
   ]
  },
  {
   "cell_type": "code",
   "execution_count": 145,
   "metadata": {},
   "outputs": [
    {
     "data": {
      "text/plain": [
       "pandas.core.series.Series"
      ]
     },
     "execution_count": 145,
     "metadata": {},
     "output_type": "execute_result"
    }
   ],
   "source": [
    "type(y)"
   ]
  },
  {
   "cell_type": "code",
   "execution_count": 147,
   "metadata": {
    "collapsed": true
   },
   "outputs": [],
   "source": [
    "from sklearn.model_selection import train_test_split"
   ]
  },
  {
   "cell_type": "code",
   "execution_count": 163,
   "metadata": {},
   "outputs": [],
   "source": [
    "X_train, X_test, y_train, y_test = train_test_split(X, y, test_size=0.33, random_state=42)"
   ]
  },
  {
   "cell_type": "code",
   "execution_count": 189,
   "metadata": {},
   "outputs": [
    {
     "data": {
      "text/plain": [
       "((67, 300), (33, 300), (67,), (33,))"
      ]
     },
     "execution_count": 189,
     "metadata": {},
     "output_type": "execute_result"
    }
   ],
   "source": [
    "X_train.shape, X_test.shape, y_train.shape, y_test.shape"
   ]
  },
  {
   "cell_type": "code",
   "execution_count": 164,
   "metadata": {
    "collapsed": true
   },
   "outputs": [],
   "source": [
    "from sklearn.metrics import f1_score\n",
    "from sklearn.metrics import accuracy_score\n",
    "from sklearn.metrics import precision_score\n",
    "from sklearn.metrics import recall_score\n",
    "from sklearn.metrics import roc_auc_score\n",
    "from sklearn.metrics import confusion_matrix"
   ]
  },
  {
   "cell_type": "code",
   "execution_count": 186,
   "metadata": {
    "collapsed": true
   },
   "outputs": [],
   "source": [
    "def get_performance(clf, x_, y_):\n",
    "    y_hat = clf.predict(x_)\n",
    "    #print('f1_score is: {}'.format(f1_score(y_, y_hat)))\n",
    "    print('accuracy is: {}'.format(accuracy_score(y_, y_hat)))\n",
    "    #print('percision is: {}'.format(precision_score(y_, y_hat)))\n",
    "    #print('recall is: {}'.format(recall_score(y_, y_hat)))"
   ]
  },
  {
   "cell_type": "code",
   "execution_count": 174,
   "metadata": {
    "collapsed": true
   },
   "outputs": [],
   "source": [
    "from sklearn.linear_model import LogisticRegressionCV,LinearRegression,LogisticRegression"
   ]
  },
  {
   "cell_type": "markdown",
   "metadata": {},
   "source": [
    "## 尝试了一下普通logic"
   ]
  },
  {
   "cell_type": "code",
   "execution_count": 187,
   "metadata": {},
   "outputs": [
    {
     "name": "stdout",
     "output_type": "stream",
     "text": [
      "accuracy is: 0.15151515151515152\n"
     ]
    }
   ],
   "source": [
    "def Logistic(X_train, y_train):\n",
    "    clf = LogisticRegression(fit_intercept=True, penalty='l2', solver='lbfgs', tol=0.01, multi_class='multinomial')\n",
    "    clf.fit(X_train, y_train)\n",
    "    return clf\n",
    "#clf.fit(X_test,y_test)\n",
    "get_performance(Logistic(X_train,y_train),X_test,y_test)"
   ]
  },
  {
   "cell_type": "markdown",
   "metadata": {},
   "source": [
    "## 试试看Neural Network"
   ]
  },
  {
   "cell_type": "code",
   "execution_count": 194,
   "metadata": {},
   "outputs": [],
   "source": [
    "model = Sequential()"
   ]
  },
  {
   "cell_type": "code",
   "execution_count": 281,
   "metadata": {},
   "outputs": [
    {
     "data": {
      "text/plain": [
       "300"
      ]
     },
     "execution_count": 281,
     "metadata": {},
     "output_type": "execute_result"
    }
   ],
   "source": [
    "num_words = 50\n",
    "embedding_dim = 300\n",
    "embedding_dim"
   ]
  },
  {
   "cell_type": "code",
   "execution_count": 282,
   "metadata": {},
   "outputs": [],
   "source": [
    "embedding_matrix = np.zeros((num_words, embedding_dim))\n",
    "# embedding_matrix为一个 [num_words，embedding_dim] 的矩阵\n",
    "# 维度为 50 * 300\n",
    "for i in range(num_words):\n",
    "    embedding_matrix[i,:] = cn_model[cn_model.index2word[i]]\n",
    "embedding_matrix = embedding_matrix.astype('float32')\n",
    "max_tokens=300"
   ]
  },
  {
   "cell_type": "code",
   "execution_count": null,
   "metadata": {},
   "outputs": [],
   "source": [
    "# 模型第一层为embedding\n",
    "model.add(Embedding(num_words,\n",
    "                    embedding_dim,\n",
    "                    weights=[embedding_matrix],\n",
    "                    input_length=max_tokens,\n",
    "                    trainable=False))"
   ]
  },
  {
   "cell_type": "code",
   "execution_count": 248,
   "metadata": {
    "collapsed": true
   },
   "outputs": [],
   "source": [
    "model.add(Bidirectional(LSTM(units=32, return_sequences=True)))\n",
    "model.add(LSTM(units=16, return_sequences=False))"
   ]
  },
  {
   "cell_type": "code",
   "execution_count": 249,
   "metadata": {},
   "outputs": [],
   "source": [
    "model.add(Dense(1, activation='sigmoid'))\n",
    "# 我们使用adam以0.001的learning rate进行优化\n",
    "optimizer = Adam(lr=1e-3)"
   ]
  },
  {
   "cell_type": "code",
   "execution_count": 250,
   "metadata": {
    "collapsed": true
   },
   "outputs": [],
   "source": [
    "model.compile(loss='categorical_crossentropy',\n",
    "              optimizer=optimizer,\n",
    "              metrics=['accuracy'])"
   ]
  },
  {
   "cell_type": "code",
   "execution_count": 258,
   "metadata": {},
   "outputs": [
    {
     "name": "stdout",
     "output_type": "stream",
     "text": [
      "_________________________________________________________________\n",
      "Layer (type)                 Output Shape              Param #   \n",
      "=================================================================\n",
      "embedding (Embedding)        (None, 50, 300)           15000000  \n",
      "_________________________________________________________________\n",
      "bidirectional (Bidirectional (None, 50, 64)            85248     \n",
      "_________________________________________________________________\n",
      "lstm_1 (LSTM)                (None, 16)                5184      \n",
      "_________________________________________________________________\n",
      "dense (Dense)                (None, 1)                 17        \n",
      "_________________________________________________________________\n",
      "dense_1 (Dense)              (None, 1)                 2         \n",
      "_________________________________________________________________\n",
      "embedding_1 (Embedding)      (None, 1, 50)             2500000   \n",
      "_________________________________________________________________\n",
      "bidirectional_1 (Bidirection (None, 1, 64)             21248     \n",
      "_________________________________________________________________\n",
      "lstm_3 (LSTM)                (None, 16)                5184      \n",
      "_________________________________________________________________\n",
      "embedding_2 (Embedding)      (None, 16, 300)           15000     \n",
      "_________________________________________________________________\n",
      "bidirectional_2 (Bidirection (None, 16, 64)            85248     \n",
      "_________________________________________________________________\n",
      "lstm_5 (LSTM)                (None, 16)                5184      \n",
      "_________________________________________________________________\n",
      "dense_2 (Dense)              (None, 1)                 17        \n",
      "_________________________________________________________________\n",
      "embedding_3 (Embedding)      (None, 1, 300)            15000     \n",
      "_________________________________________________________________\n",
      "bidirectional_3 (Bidirection (None, 1, 64)             85248     \n",
      "_________________________________________________________________\n",
      "lstm_7 (LSTM)                (None, 16)                5184      \n",
      "_________________________________________________________________\n",
      "dense_3 (Dense)              (None, 1)                 17        \n",
      "=================================================================\n",
      "Total params: 17,827,781\n",
      "Trainable params: 297,781\n",
      "Non-trainable params: 17,530,000\n",
      "_________________________________________________________________\n"
     ]
    }
   ],
   "source": [
    "# 我们来看一下模型的结构，一共90k左右可训练的变量\n",
    "model.summary()"
   ]
  },
  {
   "cell_type": "code",
   "execution_count": 252,
   "metadata": {},
   "outputs": [],
   "source": [
    "# 建立一个权重的存储点\n",
    "path_checkpoint = 'sentiment_checkpoint.keras'\n",
    "checkpoint = ModelCheckpoint(filepath=path_checkpoint, monitor='val_loss',\n",
    "                                      verbose=1, save_weights_only=True,\n",
    "                                      save_best_only=True)"
   ]
  },
  {
   "cell_type": "code",
   "execution_count": 253,
   "metadata": {},
   "outputs": [
    {
     "name": "stdout",
     "output_type": "stream",
     "text": [
      "Unable to open file (unable to open file: name = 'sentiment_checkpoint.keras', errno = 2, error message = 'No such file or directory', flags = 0, o_flags = 0)\n"
     ]
    }
   ],
   "source": [
    "# 尝试加载已训练模型\n",
    "try:\n",
    "    model.load_weights(path_checkpoint)\n",
    "except Exception as e:\n",
    "    print(e)"
   ]
  },
  {
   "cell_type": "code",
   "execution_count": 254,
   "metadata": {
    "collapsed": true
   },
   "outputs": [],
   "source": [
    "# 定义early stoping如果3个epoch内validation loss没有改善则停止训练\n",
    "earlystopping = EarlyStopping(monitor='val_loss', patience=3, verbose=1)"
   ]
  },
  {
   "cell_type": "code",
   "execution_count": 255,
   "metadata": {
    "collapsed": true
   },
   "outputs": [],
   "source": [
    "# 自动降低learning rate\n",
    "lr_reduction = ReduceLROnPlateau(monitor='val_loss',\n",
    "                                       factor=0.1, min_lr=1e-5, patience=0,\n",
    "                                       verbose=1)"
   ]
  },
  {
   "cell_type": "code",
   "execution_count": 256,
   "metadata": {
    "collapsed": true
   },
   "outputs": [],
   "source": [
    "# 定义callback函数\n",
    "callbacks = [\n",
    "    earlystopping, \n",
    "    checkpoint,\n",
    "    lr_reduction\n",
    "]"
   ]
  },
  {
   "cell_type": "code",
   "execution_count": null,
   "metadata": {},
   "outputs": [],
   "source": []
  },
  {
   "cell_type": "code",
   "execution_count": null,
   "metadata": {},
   "outputs": [],
   "source": []
  },
  {
   "cell_type": "code",
   "execution_count": null,
   "metadata": {
    "collapsed": true
   },
   "outputs": [],
   "source": []
  },
  {
   "cell_type": "code",
   "execution_count": null,
   "metadata": {
    "collapsed": true
   },
   "outputs": [],
   "source": []
  },
  {
   "cell_type": "code",
   "execution_count": null,
   "metadata": {
    "collapsed": true
   },
   "outputs": [],
   "source": []
  },
  {
   "cell_type": "code",
   "execution_count": null,
   "metadata": {
    "collapsed": true
   },
   "outputs": [],
   "source": []
  },
  {
   "cell_type": "code",
   "execution_count": 43,
   "metadata": {
    "collapsed": true
   },
   "outputs": [],
   "source": [
    "# #words_df = pd.DataFrame({'segment':segment})\n",
    "# stopwords = pd.read_csv(\"./stopwords.txt\",index_col=False,quoting=3,sep=\"\\t\",names=['stopword'],encoding='utf-8') "
   ]
  },
  {
   "cell_type": "code",
   "execution_count": 66,
   "metadata": {},
   "outputs": [
    {
     "data": {
      "text/html": [
       "<div>\n",
       "<style scoped>\n",
       "    .dataframe tbody tr th:only-of-type {\n",
       "        vertical-align: middle;\n",
       "    }\n",
       "\n",
       "    .dataframe tbody tr th {\n",
       "        vertical-align: top;\n",
       "    }\n",
       "\n",
       "    .dataframe thead th {\n",
       "        text-align: right;\n",
       "    }\n",
       "</style>\n",
       "<table border=\"1\" class=\"dataframe\">\n",
       "  <thead>\n",
       "    <tr style=\"text-align: right;\">\n",
       "      <th></th>\n",
       "      <th>stopword</th>\n",
       "    </tr>\n",
       "  </thead>\n",
       "  <tbody>\n",
       "    <tr>\n",
       "      <th>0</th>\n",
       "      <td>!</td>\n",
       "    </tr>\n",
       "    <tr>\n",
       "      <th>1</th>\n",
       "      <td>\"</td>\n",
       "    </tr>\n",
       "    <tr>\n",
       "      <th>2</th>\n",
       "      <td>#</td>\n",
       "    </tr>\n",
       "    <tr>\n",
       "      <th>3</th>\n",
       "      <td>$</td>\n",
       "    </tr>\n",
       "    <tr>\n",
       "      <th>4</th>\n",
       "      <td>%</td>\n",
       "    </tr>\n",
       "  </tbody>\n",
       "</table>\n",
       "</div>"
      ],
      "text/plain": [
       "  stopword\n",
       "0        !\n",
       "1        \"\n",
       "2        #\n",
       "3        $\n",
       "4        %"
      ]
     },
     "execution_count": 66,
     "metadata": {},
     "output_type": "execute_result"
    }
   ],
   "source": [
    "# stopwords.head()"
   ]
  },
  {
   "cell_type": "code",
   "execution_count": 62,
   "metadata": {
    "collapsed": true
   },
   "outputs": [],
   "source": [
    "# table_cut_1=table_cut_0[~table_cut_0.segment.isin(stopwords.stopword)]"
   ]
  },
  {
   "cell_type": "code",
   "execution_count": 67,
   "metadata": {},
   "outputs": [
    {
     "data": {
      "text/html": [
       "<div>\n",
       "<style scoped>\n",
       "    .dataframe tbody tr th:only-of-type {\n",
       "        vertical-align: middle;\n",
       "    }\n",
       "\n",
       "    .dataframe tbody tr th {\n",
       "        vertical-align: top;\n",
       "    }\n",
       "\n",
       "    .dataframe thead th {\n",
       "        text-align: right;\n",
       "    }\n",
       "</style>\n",
       "<table border=\"1\" class=\"dataframe\">\n",
       "  <thead>\n",
       "    <tr style=\"text-align: right;\">\n",
       "      <th></th>\n",
       "      <th>segment</th>\n",
       "    </tr>\n",
       "  </thead>\n",
       "  <tbody>\n",
       "    <tr>\n",
       "      <th>0</th>\n",
       "      <td>吴京意 淫 到 了 脑残 的 地步 看 了 恶心 想吐</td>\n",
       "    </tr>\n",
       "    <tr>\n",
       "      <th>1</th>\n",
       "      <td>首映礼 看 的 太 恐怖 了 这个 电影 不 讲 道理 的 完全 就是 吴 京 在 实现 他...</td>\n",
       "    </tr>\n",
       "    <tr>\n",
       "      <th>2</th>\n",
       "      <td>吴 京 的 炒作 水平 不 输 冯 小刚 但 小刚 至少 不 会 用 主旋律 来 炒作 吴 ...</td>\n",
       "    </tr>\n",
       "    <tr>\n",
       "      <th>3</th>\n",
       "      <td>凭 良心 说 好 看到 不 像 战狼1 的 续集 完虐 湄公河 行动</td>\n",
       "    </tr>\n",
       "    <tr>\n",
       "      <th>4</th>\n",
       "      <td>中 二 得 很</td>\n",
       "    </tr>\n",
       "  </tbody>\n",
       "</table>\n",
       "</div>"
      ],
      "text/plain": [
       "                                             segment\n",
       "0                        吴京意 淫 到 了 脑残 的 地步 看 了 恶心 想吐\n",
       "1  首映礼 看 的 太 恐怖 了 这个 电影 不 讲 道理 的 完全 就是 吴 京 在 实现 他...\n",
       "2  吴 京 的 炒作 水平 不 输 冯 小刚 但 小刚 至少 不 会 用 主旋律 来 炒作 吴 ...\n",
       "3                 凭 良心 说 好 看到 不 像 战狼1 的 续集 完虐 湄公河 行动\n",
       "4                                            中 二 得 很"
      ]
     },
     "execution_count": 67,
     "metadata": {},
     "output_type": "execute_result"
    }
   ],
   "source": [
    "# table_cut_1.head()"
   ]
  },
  {
   "cell_type": "code",
   "execution_count": 56,
   "metadata": {},
   "outputs": [
    {
     "data": {
      "text/html": [
       "<div>\n",
       "<style scoped>\n",
       "    .dataframe tbody tr th:only-of-type {\n",
       "        vertical-align: middle;\n",
       "    }\n",
       "\n",
       "    .dataframe tbody tr th {\n",
       "        vertical-align: top;\n",
       "    }\n",
       "\n",
       "    .dataframe thead th {\n",
       "        text-align: right;\n",
       "    }\n",
       "</style>\n",
       "<table border=\"1\" class=\"dataframe\">\n",
       "  <thead>\n",
       "    <tr style=\"text-align: right;\">\n",
       "      <th></th>\n",
       "      <th>segment</th>\n",
       "    </tr>\n",
       "  </thead>\n",
       "  <tbody>\n",
       "    <tr>\n",
       "      <th>0</th>\n",
       "      <td>吴京意</td>\n",
       "    </tr>\n",
       "    <tr>\n",
       "      <th>1</th>\n",
       "      <td>脑残</td>\n",
       "    </tr>\n",
       "    <tr>\n",
       "      <th>2</th>\n",
       "      <td>地步</td>\n",
       "    </tr>\n",
       "    <tr>\n",
       "      <th>3</th>\n",
       "      <td>恶心</td>\n",
       "    </tr>\n",
       "    <tr>\n",
       "      <th>4</th>\n",
       "      <td>想吐</td>\n",
       "    </tr>\n",
       "  </tbody>\n",
       "</table>\n",
       "</div>"
      ],
      "text/plain": [
       "  segment\n",
       "0     吴京意\n",
       "1      脑残\n",
       "2      地步\n",
       "3      恶心\n",
       "4      想吐"
      ]
     },
     "execution_count": 56,
     "metadata": {},
     "output_type": "execute_result"
    }
   ],
   "source": [
    "# words_df[:5]"
   ]
  },
  {
   "cell_type": "code",
   "execution_count": null,
   "metadata": {
    "collapsed": true
   },
   "outputs": [],
   "source": []
  },
  {
   "cell_type": "code",
   "execution_count": null,
   "metadata": {
    "collapsed": true
   },
   "outputs": [],
   "source": []
  },
  {
   "cell_type": "code",
   "execution_count": null,
   "metadata": {
    "collapsed": true
   },
   "outputs": [],
   "source": []
  },
  {
   "cell_type": "code",
   "execution_count": null,
   "metadata": {
    "collapsed": true
   },
   "outputs": [],
   "source": []
  }
 ],
 "metadata": {
  "kernelspec": {
   "display_name": "Python 3",
   "language": "python",
   "name": "python3"
  },
  "language_info": {
   "codemirror_mode": {
    "name": "ipython",
    "version": 3
   },
   "file_extension": ".py",
   "mimetype": "text/x-python",
   "name": "python",
   "nbconvert_exporter": "python",
   "pygments_lexer": "ipython3",
   "version": "3.5.4"
  }
 },
 "nbformat": 4,
 "nbformat_minor": 2
}
